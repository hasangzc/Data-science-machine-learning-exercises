{
 "cells": [
  {
   "cell_type": "code",
   "execution_count": 53,
   "metadata": {},
   "outputs": [
    {
     "name": "stdout",
     "output_type": "stream",
     "text": [
      "MSE: 25.5566028591748\n",
      "Bias: 24.035485951651197\n",
      "Variance: 1.5211169075236073\n"
     ]
    }
   ],
   "source": [
    "import mlxtend\n",
    "import pandas as pd\n",
    "from sklearn.model_selection import train_test_split\n",
    "from sklearn.linear_model import LinearRegression\n",
    "from mlxtend.evaluate import bias_variance_decomp\n",
    "\n",
    "file = pd.read_csv(\"https://raw.githubusercontent.com/jbrownlee/Datasets/master/housing.csv\")\n",
    "data = file.values\n",
    "X, y = data[:, :-1], data[:, -1]   \n",
    "# X: Son sütun hariç tüm datalar\n",
    "# y: Sadece son sütun içerisindeki datalar\n",
    "\n",
    "# Gerçek bir test veri kümemimiz olmadığı için verimizi 2 ye bölüyoruz. Biri training için diğeri testing için.\n",
    "# Train_test_split () işlevini kullanarak veri kümesini kolayca bölebiliriz.\n",
    "X_train, X_test, y_train, y_test = train_test_split(X, y, test_size=0.33, random_state=1)\n",
    "# test_size - Bu parametre, test veri kümesi olarak bölünmesi gereken verilerin boyutuna karar verir. \n",
    "# random_state- Bu parametreyi kodunuzda belirtmezseniz, kodunuzu her çalıştırdığınızda yeni bir rastgele\n",
    "# değer oluşturulur ve train ve test veri kümeleriniz her seferinde farklı değerleri olur.\n",
    "\n",
    "model = LinearRegression()\n",
    "mse, bias, var = bias_variance_decomp(model, X_train, y_train, X_test, y_test, loss='mse',\n",
    "                                      num_rounds=20, random_seed=None)\n",
    "# Ayrıntılı bilgi için; http://rasbt.github.io/mlxtend/user_guide/evaluate/bias_variance_decomp/\n",
    "print('MSE:', mse)\n",
    "print('Bias:', bias)\n",
    "print('Variance:', var)\n",
    "# error = bias + var+ noise\n",
    "# Modelim yüksek bir sapmaya ve düşük bir varyansa sahip.\n",
    "# Doğrusal bir regresyon modeli için bu beklenir.\n",
    "# Feature sayısını arttırıp modelimi daha kompleks hale getirebilirim ve hatamı düşürebilirim."
   ]
  }
 ],
 "metadata": {
  "kernelspec": {
   "display_name": "Python 3",
   "language": "python",
   "name": "python3"
  },
  "language_info": {
   "codemirror_mode": {
    "name": "ipython",
    "version": 3
   },
   "file_extension": ".py",
   "mimetype": "text/x-python",
   "name": "python",
   "nbconvert_exporter": "python",
   "pygments_lexer": "ipython3",
   "version": "3.8.5"
  }
 },
 "nbformat": 4,
 "nbformat_minor": 4
}
