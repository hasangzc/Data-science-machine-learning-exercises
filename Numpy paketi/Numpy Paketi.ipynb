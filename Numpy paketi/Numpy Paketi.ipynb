{
 "cells": [
  {
   "cell_type": "code",
   "execution_count": null,
   "metadata": {},
   "outputs": [],
   "source": [
    "#                                          NUMPY PAKETİ"
   ]
  },
  {
   "cell_type": "code",
   "execution_count": null,
   "metadata": {},
   "outputs": [],
   "source": [
    "# Numpy Paketi listelerde matematiksel işlem yapabilmek için geliştirildi. Numpy dizilerinin normal listelerden \n",
    "# farkı listeler farklı tür veriler içerebilirken Numpy dizileri tek türde veri içerir."
   ]
  },
  {
   "cell_type": "code",
   "execution_count": null,
   "metadata": {},
   "outputs": [],
   "source": [
    "# !! Herhangi bir Python listesini .array() metodunu kullanıp Numpy(Numeric Python) dizisine dönüştürebiliriz.\n",
    "#  numpy_list = np.array([my_list])"
   ]
  },
  {
   "cell_type": "code",
   "execution_count": 1,
   "metadata": {},
   "outputs": [
    {
     "name": "stdout",
     "output_type": "stream",
     "text": [
      "[2, 12, 4, 4, 6, 5]\n"
     ]
    }
   ],
   "source": [
    "list0 = [2, 12, 4]\n",
    "list1 = [4, 6, 5]\n",
    "print(list0 + list1)\n",
    "# Numpy dizilerinde ise bu işlemi eleman bazında toplayarak yapar."
   ]
  },
  {
   "cell_type": "code",
   "execution_count": null,
   "metadata": {},
   "outputs": [],
   "source": [
    "# İndeks noya göre seçme listeler ile aynı.\n",
    "# Ör// np_list[0]"
   ]
  },
  {
   "cell_type": "code",
   "execution_count": 2,
   "metadata": {},
   "outputs": [
    {
     "name": "stdout",
     "output_type": "stream",
     "text": [
      "Collecting numpy\n",
      "  Downloading numpy-1.19.4-cp38-cp38-manylinux2010_x86_64.whl (14.5 MB)\n",
      "\u001b[K     |████████████████████████████████| 14.5 MB 132 kB/s eta 0:00:01\n",
      "\u001b[?25hInstalling collected packages: numpy\n",
      "Successfully installed numpy-1.19.4\n",
      "\u001b[33mWARNING: You are using pip version 20.2.4; however, version 20.3.1 is available.\n",
      "You should consider upgrading via the '/home/hasan/code/jupyterenvironment/bin/python -m pip install --upgrade pip' command.\u001b[0m\n",
      "Collecting pandas\n",
      "  Downloading pandas-1.1.4-cp38-cp38-manylinux1_x86_64.whl (9.3 MB)\n",
      "\u001b[K     |████████████████████████████████| 9.3 MB 2.1 MB/s eta 0:00:01\n",
      "\u001b[?25hRequirement already satisfied: python-dateutil>=2.7.3 in /home/hasan/code/jupyterenvironment/lib/python3.8/site-packages (from pandas) (2.8.1)\n",
      "Collecting pytz>=2017.2\n",
      "  Downloading pytz-2020.4-py2.py3-none-any.whl (509 kB)\n",
      "\u001b[K     |████████████████████████████████| 509 kB 2.6 MB/s eta 0:00:01\n",
      "\u001b[?25hRequirement already satisfied: numpy>=1.15.4 in /home/hasan/code/jupyterenvironment/lib/python3.8/site-packages (from pandas) (1.19.4)\n",
      "Requirement already satisfied: six>=1.5 in /home/hasan/code/jupyterenvironment/lib/python3.8/site-packages (from python-dateutil>=2.7.3->pandas) (1.15.0)\n",
      "Installing collected packages: pytz, pandas\n",
      "Successfully installed pandas-1.1.4 pytz-2020.4\n",
      "\u001b[33mWARNING: You are using pip version 20.2.4; however, version 20.3.1 is available.\n",
      "You should consider upgrading via the '/home/hasan/code/jupyterenvironment/bin/python -m pip install --upgrade pip' command.\u001b[0m\n"
     ]
    }
   ],
   "source": [
    "\n",
    "!pip install numpy\n",
    "!pip install pandas\n"
   ]
  },
  {
   "cell_type": "code",
   "execution_count": 3,
   "metadata": {},
   "outputs": [
    {
     "name": "stdout",
     "output_type": "stream",
     "text": [
      "<class 'numpy.ndarray'>\n"
     ]
    }
   ],
   "source": [
    "import numpy as np\n",
    "my_list = [12, 4, 6]\n",
    "my_list_np = np.array(my_list)\n",
    "print(type(my_list_np))"
   ]
  },
  {
   "cell_type": "code",
   "execution_count": 8,
   "metadata": {},
   "outputs": [
    {
     "data": {
      "text/plain": [
       "array([   1.,   10.,  100., 1000.])"
      ]
     },
     "execution_count": 8,
     "metadata": {},
     "output_type": "execute_result"
    }
   ],
   "source": [
    "# Numpy modülünde sayı dizileri oluşturmak için;\n",
    "# *arange * linspace *logspace\n",
    "np.arange(1, 10)\n",
    "np.arange(1, 10, 2)\n",
    "np.linspace(-2, 2, 21) # -2 ile 2 arasında 21 eşit aralıklı sayı\n",
    "np.logspace(0, 3, 4)"
   ]
  },
  {
   "cell_type": "code",
   "execution_count": 24,
   "metadata": {},
   "outputs": [
    {
     "name": "stdout",
     "output_type": "stream",
     "text": [
      "[85. 75. 65. 60.]\n"
     ]
    }
   ],
   "source": [
    "import numpy as np\n",
    "exam1 = [100, 90, 45, 80]\n",
    "exam2 = [70, 60, 85, 40]\n",
    "exam1_np = np.array(exam1)\n",
    "exam2_np = np.array(exam2)\n",
    "average = (exam1_np + exam2_np)/2\n",
    "print(average)"
   ]
  },
  {
   "cell_type": "code",
   "execution_count": 25,
   "metadata": {},
   "outputs": [
    {
     "data": {
      "text/plain": [
       "45"
      ]
     },
     "execution_count": 25,
     "metadata": {},
     "output_type": "execute_result"
    }
   ],
   "source": [
    "exam1_np[2] # Listelerdeki gibi."
   ]
  },
  {
   "cell_type": "code",
   "execution_count": 26,
   "metadata": {},
   "outputs": [
    {
     "data": {
      "text/plain": [
       "array([False, False,  True,  True])"
      ]
     },
     "execution_count": 26,
     "metadata": {},
     "output_type": "execute_result"
    }
   ],
   "source": [
    "average < 70"
   ]
  },
  {
   "cell_type": "code",
   "execution_count": 27,
   "metadata": {},
   "outputs": [
    {
     "data": {
      "text/plain": [
       "array([65., 60.])"
      ]
     },
     "execution_count": 27,
     "metadata": {},
     "output_type": "execute_result"
    }
   ],
   "source": [
    "average[average<70]"
   ]
  },
  {
   "cell_type": "code",
   "execution_count": 29,
   "metadata": {},
   "outputs": [
    {
     "data": {
      "text/plain": [
       "numpy.ndarray"
      ]
     },
     "execution_count": 29,
     "metadata": {},
     "output_type": "execute_result"
    }
   ],
   "source": [
    "# Numpy dizileri aslında n-boyutlu diziler olarak tanımlanmıştır. Bir Numpy dizisinin türünü type() fonksiyonu ile\n",
    "# görmek istediğimizde numpy.ndarray olduğunu görürüz. Bu ifadedeki ndarray ifadesi n dimensional array yani n \n",
    "# boyutlu dizi anlamına gelir.\n",
    "type(exam1_np)"
   ]
  },
  {
   "cell_type": "code",
   "execution_count": 4,
   "metadata": {},
   "outputs": [
    {
     "ename": "NameError",
     "evalue": "name 'np' is not defined",
     "output_type": "error",
     "traceback": [
      "\u001b[0;31m---------------------------------------------------------------------------\u001b[0m",
      "\u001b[0;31mNameError\u001b[0m                                 Traceback (most recent call last)",
      "\u001b[0;32m<ipython-input-4-95e6c30ab153>\u001b[0m in \u001b[0;36m<module>\u001b[0;34m\u001b[0m\n\u001b[1;32m      1\u001b[0m \u001b[0;31m# ÇOK BOYUTLU NUMPY DİZİLERİ\u001b[0m\u001b[0;34m\u001b[0m\u001b[0;34m\u001b[0m\u001b[0;34m\u001b[0m\u001b[0m\n\u001b[0;32m----> 2\u001b[0;31m price  = np.array([[45, 56, 85],\n\u001b[0m\u001b[1;32m      3\u001b[0m                   \u001b[0;34m[\u001b[0m\u001b[0;36m26\u001b[0m\u001b[0;34m,\u001b[0m \u001b[0;36m30\u001b[0m\u001b[0;34m,\u001b[0m \u001b[0;36m12\u001b[0m\u001b[0;34m]\u001b[0m\u001b[0;34m,\u001b[0m\u001b[0;34m\u001b[0m\u001b[0;34m\u001b[0m\u001b[0m\n\u001b[1;32m      4\u001b[0m                   [77, 75, 54]])\n\u001b[1;32m      5\u001b[0m \u001b[0mprint\u001b[0m\u001b[0;34m(\u001b[0m\u001b[0mprice\u001b[0m\u001b[0;34m)\u001b[0m\u001b[0;34m\u001b[0m\u001b[0;34m\u001b[0m\u001b[0m\n",
      "\u001b[0;31mNameError\u001b[0m: name 'np' is not defined"
     ]
    }
   ],
   "source": [
    "# ÇOK BOYUTLU NUMPY DİZİLERİ\n",
    "price  = np.array([[45, 56, 85],\n",
    "                  [26, 30, 12],\n",
    "                  [77, 75, 54]])\n",
    "print(price)\n"
   ]
  },
  {
   "cell_type": "code",
   "execution_count": 35,
   "metadata": {},
   "outputs": [
    {
     "name": "stdout",
     "output_type": "stream",
     "text": [
      "[ 0  1  2  3  4  5  6  7  8  9 10 11 12 13 14 15 16 17 18 19]\n"
     ]
    },
    {
     "data": {
      "text/plain": [
       "array([ 0,  3,  6,  9, 12, 15, 18])"
      ]
     },
     "execution_count": 35,
     "metadata": {},
     "output_type": "execute_result"
    }
   ],
   "source": [
    "numbers = np.arange(20)\n",
    "print(numbers)\n",
    "numbers[:7]\n",
    "numbers[::3]\n",
    "# Listelerdeki gibi dizi[başlangıç: bitiş: adım]"
   ]
  },
  {
   "cell_type": "code",
   "execution_count": 38,
   "metadata": {},
   "outputs": [
    {
     "data": {
      "text/plain": [
       "array([[ 0,  1,  2,  3,  4],\n",
       "       [ 5,  6,  7,  8,  9],\n",
       "       [10, 11, 12, 13, 14],\n",
       "       [15, 16, 17, 18, 19]])"
      ]
     },
     "execution_count": 38,
     "metadata": {},
     "output_type": "execute_result"
    }
   ],
   "source": [
    "# !! 2 veya daha yüksek boyutlu dizilerde aynı kuralı, her boyut için yazdığımız endekslerin arasına virgül koyarak\n",
    "# belirtiriz.\n",
    "matris = numbers.reshape(4, 5)\n",
    "matris\n"
   ]
  },
  {
   "cell_type": "code",
   "execution_count": 42,
   "metadata": {},
   "outputs": [
    {
     "data": {
      "text/plain": [
       "array([[13]])"
      ]
     },
     "execution_count": 42,
     "metadata": {},
     "output_type": "execute_result"
    }
   ],
   "source": [
    "matris[2:3, 3:4] # 2.satır 3. sütundaki eleman (0 dan başladığını unutma!)"
   ]
  },
  {
   "cell_type": "code",
   "execution_count": 8,
   "metadata": {},
   "outputs": [
    {
     "name": "stdout",
     "output_type": "stream",
     "text": [
      "[[[ 2  3  4  5]\n",
      "  [ 6  7  8  9]\n",
      "  [10 11 12 13]]\n",
      "\n",
      " [[ 1  2  3  4]\n",
      "  [ 5  6  7  8]\n",
      "  [ 9 10 11 12]]]\n"
     ]
    }
   ],
   "source": [
    "# Bir Numpy dizisinin farklı eksenleri(yükseklik, satır veya sütun) üzerindeki toplamları bulmak için\n",
    "# .sum() metodu kulllanılır.\n",
    "# !! 2 Boyutlu dizilerde sütun 0, satır 1 indeksi ile gösterilir.\n",
    "# !! 3 Boyutlu dizilerde yükseklik 0, sütun 1, satır 0 ile gösterilir.\n",
    "# 3 Boyutlu bir dizi oluşuralım.\n",
    "import numpy as np\n",
    "dizi = np.array([[[2, 3, 4, 5],\n",
    "                [6, 7, 8, 9],\n",
    "                [10, 11, 12, 13]],\n",
    "                [[1, 2, 3, 4],\n",
    "                [5, 6, 7, 8],\n",
    "                [9, 10, 11, 12]]])\n",
    "print(dizi)\n"
   ]
  },
  {
   "cell_type": "code",
   "execution_count": 9,
   "metadata": {},
   "outputs": [
    {
     "data": {
      "text/plain": [
       "array([[ 3,  5,  7,  9],\n",
       "       [11, 13, 15, 17],\n",
       "       [19, 21, 23, 25]])"
      ]
     },
     "execution_count": 9,
     "metadata": {},
     "output_type": "execute_result"
    }
   ],
   "source": [
    "dizi.sum(0) # Yükseklik Toplamı"
   ]
  },
  {
   "cell_type": "code",
   "execution_count": 10,
   "metadata": {},
   "outputs": [
    {
     "data": {
      "text/plain": [
       "array([[18, 21, 24, 27],\n",
       "       [15, 18, 21, 24]])"
      ]
     },
     "execution_count": 10,
     "metadata": {},
     "output_type": "execute_result"
    }
   ],
   "source": [
    "dizi.sum(1)"
   ]
  },
  {
   "cell_type": "code",
   "execution_count": 11,
   "metadata": {},
   "outputs": [
    {
     "data": {
      "text/plain": [
       "array([[14, 30, 46],\n",
       "       [10, 26, 42]])"
      ]
     },
     "execution_count": 11,
     "metadata": {},
     "output_type": "execute_result"
    }
   ],
   "source": [
    "dizi.sum(2)"
   ]
  },
  {
   "cell_type": "code",
   "execution_count": null,
   "metadata": {},
   "outputs": [],
   "source": [
    "# Not// Kaç Boyutlu Olursa OLsun Numpy Dizisi Mutlaka Aynı Türdeki Verilerden OLuşur."
   ]
  },
  {
   "cell_type": "code",
   "execution_count": 16,
   "metadata": {},
   "outputs": [],
   "source": [
    "# Birikimli toplamak için cumsum() metodu kullanılır.\n"
   ]
  },
  {
   "cell_type": "code",
   "execution_count": null,
   "metadata": {},
   "outputs": [],
   "source": [
    "# Numpy Dizilerinde Kullanılan Diğer Metodlar:\n",
    "# dizi.max() [Verilen eksendeki max değerler]  dizi.argmax() [Verilen eksendeki max değerlerin sıra nosu]\n",
    "# dizi.min()   dizi.ptp() [Verilen eksendeki min ve max değerler arasındaki fark] dizi.round(a) [Dizide yer alan\n",
    "# a ondalık basamağa kadar yuvarlar.] # dizi.trace() [Dizideki köşegenlerin toplamını hesaplar.]\n",
    "# dizi.mean() [Verilen eksen boyunca ortalama değerleri hesaplar.] dizi.var() [Verilen eksen boyunca varyans hesaplar]\n",
    "# dizi.std() [Verilen eksen boyunca standart sapmaları hesaplar. dizi.prod() [Verilen eksendeki sayıların çarpımını hesaplar]\n",
    "# dizi.sort() Verilen eksendeki verilerin sıralanmış halini iletir."
   ]
  },
  {
   "cell_type": "code",
   "execution_count": 21,
   "metadata": {},
   "outputs": [
    {
     "data": {
      "text/plain": [
       "array([[2, 4, 8]])"
      ]
     },
     "execution_count": 21,
     "metadata": {},
     "output_type": "execute_result"
    }
   ],
   "source": [
    "hisse_fiyat = np.array([[2, 4, 8],\n",
    "               [5, 12, 47],\n",
    "               [21, 25, 82]])\n",
    "hisse_fiyat[1]\n",
    "hisse_fiyat[1][2]\n",
    "hisse_fiyat[0:1][0:2]"
   ]
  },
  {
   "cell_type": "code",
   "execution_count": 25,
   "metadata": {},
   "outputs": [
    {
     "data": {
      "text/plain": [
       "array([[   2,   20,   64],\n",
       "       [  20,  192, 1034],\n",
       "       [  21,   75,  410]])"
      ]
     },
     "execution_count": 25,
     "metadata": {},
     "output_type": "execute_result"
    }
   ],
   "source": [
    "# Numpy dizilerinde aritmatik işlemlerde yapmak mümkün.\n",
    "a = np.array([[2, 4, 8],\n",
    "               [5, 12, 47],\n",
    "               [21, 25, 82]])\n",
    "b = np.array([[1, 5, 8],\n",
    "               [4, 16, 22],\n",
    "               [1, 3, 5]])\n",
    "\n",
    "a + b \n",
    "a - b\n",
    "a / b\n",
    "a * b"
   ]
  },
  {
   "cell_type": "code",
   "execution_count": 26,
   "metadata": {},
   "outputs": [
    {
     "data": {
      "text/plain": [
       "array([[  26,   98,  144],\n",
       "       [ 100,  358,  539],\n",
       "       [ 203,  751, 1128]])"
      ]
     },
     "execution_count": 26,
     "metadata": {},
     "output_type": "execute_result"
    }
   ],
   "source": [
    "# 2 numpy dizisi arasında matris çarpımı yapmak için; np.matmul()\n",
    "np.matmul(a, b)"
   ]
  },
  {
   "cell_type": "code",
   "execution_count": null,
   "metadata": {},
   "outputs": [],
   "source": [
    "# Numpy metodlarını uygyulama yöntemleri:\n",
    "# 1) dizi.(metod ismi)\n",
    "# 2) np.metodismi(dizi)"
   ]
  },
  {
   "cell_type": "code",
   "execution_count": 28,
   "metadata": {},
   "outputs": [
    {
     "data": {
      "text/plain": [
       "45.666666666666664"
      ]
     },
     "execution_count": 28,
     "metadata": {},
     "output_type": "execute_result"
    }
   ],
   "source": [
    "np.sum(a[:1])\n",
    "np.mean(a[:,2])"
   ]
  },
  {
   "cell_type": "code",
   "execution_count": 32,
   "metadata": {},
   "outputs": [
    {
     "name": "stdout",
     "output_type": "stream",
     "text": [
      "[[ 2  4  8]\n",
      " [ 5 12 47]\n",
      " [21 25 82]]\n",
      "[2 4 8]\n",
      "[ 5 12 47]\n",
      "[21 25 82]\n"
     ]
    }
   ],
   "source": [
    "import numpy as np\n",
    "hisse_fiyat = np.array([[2, 4, 8],\n",
    "               [5, 12, 47],\n",
    "               [21, 25, 82]])\n",
    "print(hisse_fiyat)\n",
    "# 2 Boyutlu dizimize for döngüsü uygularsam şöyle bir sonuç alırım.\n",
    "for i in hisse_fiyat:\n",
    "    print(i)\n",
    "# Döngüyü doğrudan doğruya Numpy dizisine uyguladığında dizi içerisindeki listeleri görürsün ya da diğer bir \n",
    "# deyişle satırları görürsün."
   ]
  },
  {
   "cell_type": "code",
   "execution_count": 33,
   "metadata": {},
   "outputs": [
    {
     "name": "stdout",
     "output_type": "stream",
     "text": [
      "2\n",
      "4\n",
      "8\n",
      "5\n",
      "12\n",
      "47\n",
      "21\n",
      "25\n",
      "82\n"
     ]
    }
   ],
   "source": [
    "# Peki ben tek tek dizinin elemanlarına bakmak istiyorum: .nditer()\n",
    "for i in np.nditer(hisse_fiyat):\n",
    "    print(i)\n"
   ]
  },
  {
   "cell_type": "code",
   "execution_count": null,
   "metadata": {},
   "outputs": [],
   "source": [
    "#                                Kullanışlı Numpy Metodları"
   ]
  },
  {
   "cell_type": "code",
   "execution_count": 36,
   "metadata": {
    "scrolled": true
   },
   "outputs": [
    {
     "data": {
      "text/plain": [
       "array([21, 25, 82])"
      ]
     },
     "execution_count": 36,
     "metadata": {},
     "output_type": "execute_result"
    }
   ],
   "source": [
    "np.amax(hisse_fiyat, axis=0) # İstenen eksendeki max değeri verir.amin() tam tersini verir."
   ]
  },
  {
   "cell_type": "code",
   "execution_count": null,
   "metadata": {},
   "outputs": [],
   "source": [
    "# np.concatenate() : 2 Numpy dizisini istenen eksenlerden birleştirmek için kullanılır.\n",
    "# Örneğin 2 boyutlu 2 diziyi birleştirmek için axis = 0  olursa satırları yani alt alta,\n",
    "# x = 1 olursa sütunları yani yan yana birleştirir."
   ]
  },
  {
   "cell_type": "code",
   "execution_count": 38,
   "metadata": {},
   "outputs": [
    {
     "data": {
      "text/plain": [
       "array([[ 7,  8],\n",
       "       [ 9, 10],\n",
       "       [11, 12]])"
      ]
     },
     "execution_count": 38,
     "metadata": {},
     "output_type": "execute_result"
    }
   ],
   "source": [
    "c = np.arange(1, 7).reshape(3, 2)\n",
    "d = np.arange(7, 13) .reshape(3, 2)\n",
    "c\n",
    "d"
   ]
  },
  {
   "cell_type": "code",
   "execution_count": 40,
   "metadata": {},
   "outputs": [
    {
     "data": {
      "text/plain": [
       "array([[ 1,  2],\n",
       "       [ 3,  4],\n",
       "       [ 5,  6],\n",
       "       [ 7,  8],\n",
       "       [ 9, 10],\n",
       "       [11, 12]])"
      ]
     },
     "execution_count": 40,
     "metadata": {},
     "output_type": "execute_result"
    }
   ],
   "source": [
    "np.concatenate([c ,d], axis=0)"
   ]
  },
  {
   "cell_type": "code",
   "execution_count": 41,
   "metadata": {},
   "outputs": [
    {
     "data": {
      "text/plain": [
       "array([[ 1,  2,  7,  8],\n",
       "       [ 3,  4,  9, 10],\n",
       "       [ 5,  6, 11, 12]])"
      ]
     },
     "execution_count": 41,
     "metadata": {},
     "output_type": "execute_result"
    }
   ],
   "source": [
    "np.concatenate([c, d], axis= 1)"
   ]
  },
  {
   "cell_type": "code",
   "execution_count": 42,
   "metadata": {},
   "outputs": [
    {
     "data": {
      "text/plain": [
       "array([ 7, 12])"
      ]
     },
     "execution_count": 42,
     "metadata": {},
     "output_type": "execute_result"
    }
   ],
   "source": [
    "# np.intersect1d() : 2 veya daha fazla Numpy dizisindeki ortak elemanları seçer.\n",
    "z = np.array([2, 12, 7, 9])\n",
    "l = np.array([12, 7, 10])\n",
    "np.intersect1d(z, l)"
   ]
  },
  {
   "cell_type": "code",
   "execution_count": 43,
   "metadata": {},
   "outputs": [
    {
     "data": {
      "text/plain": [
       "array([ True,  True, False])"
      ]
     },
     "execution_count": 43,
     "metadata": {},
     "output_type": "execute_result"
    }
   ],
   "source": [
    "# np.isin() aranan elemanların dizide veya listede olup olmağını gösterir.\n",
    "np.isin(l, z)\n"
   ]
  },
  {
   "cell_type": "code",
   "execution_count": 47,
   "metadata": {},
   "outputs": [
    {
     "name": "stderr",
     "output_type": "stream",
     "text": [
      "<ipython-input-47-59d6115ecc05>:2: RuntimeWarning: invalid value encountered in log\n",
      "  e = np.log([3, 4, -2])\n"
     ]
    },
    {
     "data": {
      "text/plain": [
       "array([False, False,  True])"
      ]
     },
     "execution_count": 47,
     "metadata": {},
     "output_type": "execute_result"
    }
   ],
   "source": [
    "# np.isnan() Bir dizideki verilerin NaN(Not a Number) olup olmadığını görmek için.\n",
    "e = np.log([3, 4, -2])\n",
    "\n",
    "np.isnan(e)\n"
   ]
  },
  {
   "cell_type": "code",
   "execution_count": 48,
   "metadata": {},
   "outputs": [
    {
     "data": {
      "text/plain": [
       "array([1., 1., 1., 1., 1.])"
      ]
     },
     "execution_count": 48,
     "metadata": {},
     "output_type": "execute_result"
    }
   ],
   "source": [
    "# np.ones() Birlerden meydana gelen istenen boyutta bir Numpy dizisi oluşturur.\n",
    "np.ones(5)"
   ]
  },
  {
   "cell_type": "code",
   "execution_count": 49,
   "metadata": {},
   "outputs": [
    {
     "data": {
      "text/plain": [
       "array([[1., 1., 1., 1., 1.],\n",
       "       [1., 1., 1., 1., 1.],\n",
       "       [1., 1., 1., 1., 1.]])"
      ]
     },
     "execution_count": 49,
     "metadata": {},
     "output_type": "execute_result"
    }
   ],
   "source": [
    "np.ones((3, 5))"
   ]
  },
  {
   "cell_type": "code",
   "execution_count": 50,
   "metadata": {},
   "outputs": [
    {
     "data": {
      "text/plain": [
       "array([3, 3, 3, 3, 3, 3])"
      ]
     },
     "execution_count": 50,
     "metadata": {},
     "output_type": "execute_result"
    }
   ],
   "source": [
    "# np.repeat() Tekrarlanan elemanlardan meydana gelen bir dizi oluşturur.\n",
    "np.repeat(3, 6)"
   ]
  },
  {
   "cell_type": "code",
   "execution_count": 51,
   "metadata": {},
   "outputs": [
    {
     "data": {
      "text/plain": [
       "array([2, 9])"
      ]
     },
     "execution_count": 51,
     "metadata": {},
     "output_type": "execute_result"
    }
   ],
   "source": [
    "# np.setdiff1d() Bir dizide olup  diğerinde olmayan elemanları seçmek için kullanılır.\n",
    "z = np.array([2, 12, 7, 9])\n",
    "l = np.array([12, 7, 10])\n",
    "np.setdiff1d(z, l)"
   ]
  },
  {
   "cell_type": "code",
   "execution_count": 52,
   "metadata": {},
   "outputs": [
    {
     "data": {
      "text/plain": [
       "array([ 2,  5, 12])"
      ]
     },
     "execution_count": 52,
     "metadata": {},
     "output_type": "execute_result"
    }
   ],
   "source": [
    "# np.unique() Bir dizideki tekil değerleri gösterir.\n",
    "un = np.array([2, 2, 12, 5, 5])\n",
    "np.unique(un)"
   ]
  },
  {
   "cell_type": "code",
   "execution_count": 55,
   "metadata": {},
   "outputs": [
    {
     "data": {
      "text/plain": [
       "(array([  0,  10,  20,  30,  40,  50,  60,  70,  80,  90, 100]),)"
      ]
     },
     "execution_count": 55,
     "metadata": {},
     "output_type": "execute_result"
    }
   ],
   "source": [
    "# np.where() Bir Numpy dizisinde istenen şartları sağlayan elemanları seçmek için kullanılır.\n",
    "sartlı_dizi = np.arange(0, 101)\n",
    "np.where(sartlı_dizi % 10 == 0)\n"
   ]
  },
  {
   "cell_type": "code",
   "execution_count": 59,
   "metadata": {},
   "outputs": [
    {
     "data": {
      "text/plain": [
       "array([0., 0., 0., 0., 0., 0., 0., 0.])"
      ]
     },
     "execution_count": 59,
     "metadata": {},
     "output_type": "execute_result"
    }
   ],
   "source": [
    "# np.zeros Sıfırdan meydana gelen istenen boyutta Numpy Dizisi oluşturur.\n",
    "np.zeros(8)"
   ]
  },
  {
   "cell_type": "code",
   "execution_count": null,
   "metadata": {},
   "outputs": [],
   "source": []
  }
 ],
 "metadata": {
  "kernelspec": {
   "display_name": "Python 3",
   "language": "python",
   "name": "python3"
  },
  "language_info": {
   "codemirror_mode": {
    "name": "ipython",
    "version": 3
   },
   "file_extension": ".py",
   "mimetype": "text/x-python",
   "name": "python",
   "nbconvert_exporter": "python",
   "pygments_lexer": "ipython3",
   "version": "3.8.5"
  }
 },
 "nbformat": 4,
 "nbformat_minor": 4
}
