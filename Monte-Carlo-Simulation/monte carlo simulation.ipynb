{
 "cells": [
  {
   "cell_type": "code",
   "execution_count": 34,
   "metadata": {},
   "outputs": [],
   "source": [
    "import numpy as np\n",
    "import pandas as pd"
   ]
  },
  {
   "cell_type": "code",
   "execution_count": 35,
   "metadata": {},
   "outputs": [],
   "source": [
    "width = 10\n",
    "height = 100\n",
    "numdatapoints = 100000\n",
    "area = width * height"
   ]
  },
  {
   "cell_type": "code",
   "execution_count": 36,
   "metadata": {},
   "outputs": [],
   "source": [
    "def  my_function(x):\n",
    "    return x * x"
   ]
  },
  {
   "cell_type": "code",
   "execution_count": 37,
   "metadata": {},
   "outputs": [],
   "source": [
    "def check(y, fxIn):\n",
    "    if y > fxIn:\n",
    "        return 0\n",
    "    else:\n",
    "        return 1    "
   ]
  },
  {
   "cell_type": "code",
   "execution_count": 38,
   "metadata": {},
   "outputs": [
    {
     "data": {
      "text/html": [
       "<div>\n",
       "<style scoped>\n",
       "    .dataframe tbody tr th:only-of-type {\n",
       "        vertical-align: middle;\n",
       "    }\n",
       "\n",
       "    .dataframe tbody tr th {\n",
       "        vertical-align: top;\n",
       "    }\n",
       "\n",
       "    .dataframe thead th {\n",
       "        text-align: right;\n",
       "    }\n",
       "</style>\n",
       "<table border=\"1\" class=\"dataframe\">\n",
       "  <thead>\n",
       "    <tr style=\"text-align: right;\">\n",
       "      <th></th>\n",
       "      <th>x</th>\n",
       "      <th>y</th>\n",
       "      <th>f(x)=x^2</th>\n",
       "      <th>check</th>\n",
       "    </tr>\n",
       "  </thead>\n",
       "  <tbody>\n",
       "    <tr>\n",
       "      <th>0</th>\n",
       "      <td>4.170220</td>\n",
       "      <td>31.846122</td>\n",
       "      <td>17.390735</td>\n",
       "      <td>0</td>\n",
       "    </tr>\n",
       "    <tr>\n",
       "      <th>1</th>\n",
       "      <td>7.203245</td>\n",
       "      <td>60.028610</td>\n",
       "      <td>51.886738</td>\n",
       "      <td>0</td>\n",
       "    </tr>\n",
       "    <tr>\n",
       "      <th>2</th>\n",
       "      <td>0.001144</td>\n",
       "      <td>12.571530</td>\n",
       "      <td>0.000001</td>\n",
       "      <td>0</td>\n",
       "    </tr>\n",
       "    <tr>\n",
       "      <th>3</th>\n",
       "      <td>3.023326</td>\n",
       "      <td>34.363610</td>\n",
       "      <td>9.140498</td>\n",
       "      <td>0</td>\n",
       "    </tr>\n",
       "    <tr>\n",
       "      <th>4</th>\n",
       "      <td>1.467559</td>\n",
       "      <td>74.438795</td>\n",
       "      <td>2.153729</td>\n",
       "      <td>0</td>\n",
       "    </tr>\n",
       "    <tr>\n",
       "      <th>5</th>\n",
       "      <td>0.923386</td>\n",
       "      <td>78.093380</td>\n",
       "      <td>0.852642</td>\n",
       "      <td>0</td>\n",
       "    </tr>\n",
       "    <tr>\n",
       "      <th>6</th>\n",
       "      <td>1.862602</td>\n",
       "      <td>82.540155</td>\n",
       "      <td>3.469287</td>\n",
       "      <td>0</td>\n",
       "    </tr>\n",
       "    <tr>\n",
       "      <th>7</th>\n",
       "      <td>3.455607</td>\n",
       "      <td>15.316603</td>\n",
       "      <td>11.941222</td>\n",
       "      <td>0</td>\n",
       "    </tr>\n",
       "    <tr>\n",
       "      <th>8</th>\n",
       "      <td>3.967675</td>\n",
       "      <td>49.612883</td>\n",
       "      <td>15.742443</td>\n",
       "      <td>0</td>\n",
       "    </tr>\n",
       "    <tr>\n",
       "      <th>9</th>\n",
       "      <td>5.388167</td>\n",
       "      <td>20.603748</td>\n",
       "      <td>29.032347</td>\n",
       "      <td>1</td>\n",
       "    </tr>\n",
       "  </tbody>\n",
       "</table>\n",
       "</div>"
      ],
      "text/plain": [
       "          x          y   f(x)=x^2  check\n",
       "0  4.170220  31.846122  17.390735      0\n",
       "1  7.203245  60.028610  51.886738      0\n",
       "2  0.001144  12.571530   0.000001      0\n",
       "3  3.023326  34.363610   9.140498      0\n",
       "4  1.467559  74.438795   2.153729      0\n",
       "5  0.923386  78.093380   0.852642      0\n",
       "6  1.862602  82.540155   3.469287      0\n",
       "7  3.455607  15.316603  11.941222      0\n",
       "8  3.967675  49.612883  15.742443      0\n",
       "9  5.388167  20.603748  29.032347      1"
      ]
     },
     "execution_count": 38,
     "metadata": {},
     "output_type": "execute_result"
    }
   ],
   "source": [
    "np.random.seed(1)\n",
    "mynumbersX = np.random.rand(numdatapoints)*width\n",
    "mynumbersY = np.random.rand(numdatapoints)*height\n",
    "df = pd.concat([pd.DataFrame(data = mynumbersX), pd.DataFrame(data = mynumbersY), \n",
    "              pd.DataFrame(data = mynumbersX).apply(my_function)], axis=1)\n",
    "df.columns = [\"x\", \"y\", \"f(x)=x^2\"]\n",
    "df[\"check\"] = df.apply(lambda row:check(row[\"y\"], row[\"f(x)=x^2\"]), axis=1)\n",
    "df[0:10]"
   ]
  },
  {
   "cell_type": "code",
   "execution_count": 39,
   "metadata": {},
   "outputs": [
    {
     "data": {
      "text/plain": [
       "333.43"
      ]
     },
     "execution_count": 39,
     "metadata": {},
     "output_type": "execute_result"
    }
   ],
   "source": [
    "result = (df[\"check\"].sum() / numdatapoints) * area\n",
    "result \n",
    "# seed = 4   -----> 335.01 \n",
    "# seed = 1   -----> 333.43\n",
    "# If I increase the number of points(numdatapoints), the error related to the seed decreases!"
   ]
  },
  {
   "cell_type": "code",
   "execution_count": null,
   "metadata": {},
   "outputs": [],
   "source": []
  }
 ],
 "metadata": {
  "kernelspec": {
   "display_name": "Python 3",
   "language": "python",
   "name": "python3"
  },
  "language_info": {
   "codemirror_mode": {
    "name": "ipython",
    "version": 3
   },
   "file_extension": ".py",
   "mimetype": "text/x-python",
   "name": "python",
   "nbconvert_exporter": "python",
   "pygments_lexer": "ipython3",
   "version": "3.8.5"
  }
 },
 "nbformat": 4,
 "nbformat_minor": 4
}
