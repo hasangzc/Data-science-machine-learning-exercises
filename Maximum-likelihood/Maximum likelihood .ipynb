{
 "cells": [
  {
   "cell_type": "code",
   "execution_count": 3,
   "metadata": {},
   "outputs": [],
   "source": [
    "import pandas as pd\n",
    "import numpy as np\n",
    "import matplotlib.pyplot as plt\n",
    "from sklearn.linear_model import LinearRegression\n",
    "import scipy.optimize as optimize"
   ]
  },
  {
   "cell_type": "code",
   "execution_count": 4,
   "metadata": {},
   "outputs": [
    {
     "data": {
      "text/html": [
       "<div>\n",
       "<style scoped>\n",
       "    .dataframe tbody tr th:only-of-type {\n",
       "        vertical-align: middle;\n",
       "    }\n",
       "\n",
       "    .dataframe tbody tr th {\n",
       "        vertical-align: top;\n",
       "    }\n",
       "\n",
       "    .dataframe thead th {\n",
       "        text-align: right;\n",
       "    }\n",
       "</style>\n",
       "<table border=\"1\" class=\"dataframe\">\n",
       "  <thead>\n",
       "    <tr style=\"text-align: right;\">\n",
       "      <th></th>\n",
       "      <th>t</th>\n",
       "      <th>Cust</th>\n",
       "      <th>PrAlive</th>\n",
       "    </tr>\n",
       "  </thead>\n",
       "  <tbody>\n",
       "    <tr>\n",
       "      <th>0</th>\n",
       "      <td>0</td>\n",
       "      <td>1000</td>\n",
       "      <td>1.000</td>\n",
       "    </tr>\n",
       "    <tr>\n",
       "      <th>1</th>\n",
       "      <td>1</td>\n",
       "      <td>631</td>\n",
       "      <td>0.631</td>\n",
       "    </tr>\n",
       "    <tr>\n",
       "      <th>2</th>\n",
       "      <td>2</td>\n",
       "      <td>468</td>\n",
       "      <td>0.468</td>\n",
       "    </tr>\n",
       "    <tr>\n",
       "      <th>3</th>\n",
       "      <td>3</td>\n",
       "      <td>382</td>\n",
       "      <td>0.382</td>\n",
       "    </tr>\n",
       "    <tr>\n",
       "      <th>4</th>\n",
       "      <td>4</td>\n",
       "      <td>326</td>\n",
       "      <td>0.326</td>\n",
       "    </tr>\n",
       "    <tr>\n",
       "      <th>5</th>\n",
       "      <td>5</td>\n",
       "      <td>289</td>\n",
       "      <td>0.289</td>\n",
       "    </tr>\n",
       "    <tr>\n",
       "      <th>6</th>\n",
       "      <td>6</td>\n",
       "      <td>262</td>\n",
       "      <td>0.262</td>\n",
       "    </tr>\n",
       "    <tr>\n",
       "      <th>7</th>\n",
       "      <td>7</td>\n",
       "      <td>241</td>\n",
       "      <td>0.241</td>\n",
       "    </tr>\n",
       "    <tr>\n",
       "      <th>8</th>\n",
       "      <td>8</td>\n",
       "      <td>223</td>\n",
       "      <td>0.223</td>\n",
       "    </tr>\n",
       "    <tr>\n",
       "      <th>9</th>\n",
       "      <td>9</td>\n",
       "      <td>207</td>\n",
       "      <td>0.207</td>\n",
       "    </tr>\n",
       "    <tr>\n",
       "      <th>10</th>\n",
       "      <td>10</td>\n",
       "      <td>194</td>\n",
       "      <td>0.194</td>\n",
       "    </tr>\n",
       "    <tr>\n",
       "      <th>11</th>\n",
       "      <td>11</td>\n",
       "      <td>183</td>\n",
       "      <td>0.183</td>\n",
       "    </tr>\n",
       "    <tr>\n",
       "      <th>12</th>\n",
       "      <td>12</td>\n",
       "      <td>173</td>\n",
       "      <td>0.173</td>\n",
       "    </tr>\n",
       "  </tbody>\n",
       "</table>\n",
       "</div>"
      ],
      "text/plain": [
       "     t  Cust  PrAlive\n",
       "0    0  1000    1.000\n",
       "1    1   631    0.631\n",
       "2    2   468    0.468\n",
       "3    3   382    0.382\n",
       "4    4   326    0.326\n",
       "5    5   289    0.289\n",
       "6    6   262    0.262\n",
       "7    7   241    0.241\n",
       "8    8   223    0.223\n",
       "9    9   207    0.207\n",
       "10  10   194    0.194\n",
       "11  11   183    0.183\n",
       "12  12   173    0.173"
      ]
     },
     "execution_count": 4,
     "metadata": {},
     "output_type": "execute_result"
    }
   ],
   "source": [
    "data = pd.read_csv(\"data.csv\")\n",
    "data"
   ]
  },
  {
   "cell_type": "code",
   "execution_count": 5,
   "metadata": {},
   "outputs": [
    {
     "data": {
      "text/html": [
       "<div>\n",
       "<style scoped>\n",
       "    .dataframe tbody tr th:only-of-type {\n",
       "        vertical-align: middle;\n",
       "    }\n",
       "\n",
       "    .dataframe tbody tr th {\n",
       "        vertical-align: top;\n",
       "    }\n",
       "\n",
       "    .dataframe thead th {\n",
       "        text-align: right;\n",
       "    }\n",
       "</style>\n",
       "<table border=\"1\" class=\"dataframe\">\n",
       "  <thead>\n",
       "    <tr style=\"text-align: right;\">\n",
       "      <th></th>\n",
       "      <th>t</th>\n",
       "      <th>Cust</th>\n",
       "      <th>PrAlive</th>\n",
       "    </tr>\n",
       "  </thead>\n",
       "  <tbody>\n",
       "    <tr>\n",
       "      <th>0</th>\n",
       "      <td>0</td>\n",
       "      <td>1000</td>\n",
       "      <td>1.000</td>\n",
       "    </tr>\n",
       "    <tr>\n",
       "      <th>1</th>\n",
       "      <td>1</td>\n",
       "      <td>631</td>\n",
       "      <td>0.631</td>\n",
       "    </tr>\n",
       "    <tr>\n",
       "      <th>2</th>\n",
       "      <td>2</td>\n",
       "      <td>468</td>\n",
       "      <td>0.468</td>\n",
       "    </tr>\n",
       "    <tr>\n",
       "      <th>3</th>\n",
       "      <td>3</td>\n",
       "      <td>382</td>\n",
       "      <td>0.382</td>\n",
       "    </tr>\n",
       "    <tr>\n",
       "      <th>4</th>\n",
       "      <td>4</td>\n",
       "      <td>326</td>\n",
       "      <td>0.326</td>\n",
       "    </tr>\n",
       "  </tbody>\n",
       "</table>\n",
       "</div>"
      ],
      "text/plain": [
       "   t  Cust  PrAlive\n",
       "0  0  1000    1.000\n",
       "1  1   631    0.631\n",
       "2  2   468    0.468\n",
       "3  3   382    0.382\n",
       "4  4   326    0.326"
      ]
     },
     "execution_count": 5,
     "metadata": {},
     "output_type": "execute_result"
    }
   ],
   "source": [
    "train_data = data.head()\n",
    "train_data"
   ]
  },
  {
   "cell_type": "code",
   "execution_count": 6,
   "metadata": {},
   "outputs": [
    {
     "data": {
      "text/plain": [
       "<function matplotlib.pyplot.show(close=None, block=None)>"
      ]
     },
     "execution_count": 6,
     "metadata": {},
     "output_type": "execute_result"
    },
    {
     "data": {
      "image/png": "[encoded data removed]",
      "text/plain": [
       "<Figure size 432x288 with 1 Axes>"
      ]
     },
     "metadata": {
      "needs_background": "light"
     },
     "output_type": "display_data"
    }
   ],
   "source": [
    "x = train_data.t.values.reshape(-1, 1)\n",
    "y = train_data.PrAlive.values\n",
    "fig = plt.figure()\n",
    "ax = fig.add_subplot(111)\n",
    "fig.subplots_adjust(top=0.85)\n",
    "ax.set_xlabel(\"Tenure(years)\")\n",
    "ax.set_ylabel(\"%Survivor\")\n",
    "\n",
    "ax.plot(x+1, y*100)\n",
    "ax.axvline(x=5.5, color=\"r\", linestyle=\"--\")\n",
    "ax.axis([0,10,0,110])\n",
    "ax.set_xticks(np.arange(0,12,1))\n",
    "plt.show"
   ]
  },
  {
   "cell_type": "code",
   "execution_count": 7,
   "metadata": {},
   "outputs": [
    {
     "name": "stdout",
     "output_type": "stream",
     "text": [
      "y= 0.881 +( -0.15970000000000004 )t\n",
      "R2: 0.869\n"
     ]
    }
   ],
   "source": [
    "# Linear\n",
    "x = train_data.t.values.reshape(-1, 1)\n",
    "y = train_data.PrAlive.values\n",
    "regres1 = LinearRegression()\n",
    "regres1.fit(x, y)\n",
    "print(\"y=\", round(regres1.intercept_,3), \"+(\", regres1.coef_[0],\")t\")\n",
    "print(\"R2:\", round(regres1.score(x,y), 3))"
   ]
  },
  {
   "cell_type": "code",
   "execution_count": 8,
   "metadata": {
    "scrolled": true
   },
   "outputs": [
    {
     "name": "stdout",
     "output_type": "stream",
     "text": [
      "y= 0.981 +( -0.361 )t+( 0.05 )t2\n",
      "R2: 0.989\n"
     ]
    }
   ],
   "source": [
    "# Quadratic\n",
    "x = np.vstack((train_data.t.values, train_data.t.values**2)).T \n",
    "y = train_data.PrAlive.values\n",
    "\n",
    "regres2  = LinearRegression()\n",
    "regres2.fit(x , y)\n",
    "print(\"y=\", round(regres2.intercept_, 3), \"+(\", round(regres2.coef_[0], 3),\")t+(\", round(regres2.coef_[1], 3),\")t2\")\n",
    "print(\"R2:\", round(regres2.score(x,y), 3))"
   ]
  },
  {
   "cell_type": "code",
   "execution_count": 9,
   "metadata": {},
   "outputs": [
    {
     "name": "stdout",
     "output_type": "stream",
     "text": [
      "ln(y): -0.112 +( -0.274 )t\n",
      "R2: 0.954\n"
     ]
    }
   ],
   "source": [
    "# Exponential\n",
    "x = train_data.t.values.reshape(-1, 1)\n",
    "y = np.log(train_data.PrAlive.values)\n",
    "\n",
    "regres3 = LinearRegression()\n",
    "regres3.fit(x, y)\n",
    "print(\"ln(y):\", round(regres3.intercept_, 3), \"+(\", round(regres3.coef_[0], 3),\")t\")\n",
    "print(\"R2:\", round(regres3.score(x, y), 3))"
   ]
  },
  {
   "cell_type": "code",
   "execution_count": 10,
   "metadata": {},
   "outputs": [
    {
     "data": {
      "image/png": "[encoded data removed]",
      "text/plain": [
       "<Figure size 432x288 with 1 Axes>"
      ]
     },
     "metadata": {
      "needs_background": "light"
     },
     "output_type": "display_data"
    }
   ],
   "source": [
    "# Linear, exp input\n",
    "x = train_data.t.values.reshape(-1, 1)\n",
    "# quad input\n",
    "x1 = np.vstack((train_data.t.values, train_data.t.values**2)).T\n",
    "\n",
    "y = train_data.PrAlive.values\n",
    "\n",
    "fig = plt.figure()\n",
    "ax=fig.add_subplot(111)\n",
    "fig.subplots_adjust(top=0.85)\n",
    "\n",
    "ax.set_xlabel(\"Tenure(years)\")\n",
    "ax.set_ylabel(\"%Surviving\")\n",
    "ax.axvline(x=5.5, color=\"r\", linestyle=\"--\")\n",
    "ax.axis([0,10,0,110])\n",
    "ax.set_xticks(np.arange(0,11,1.0))\n",
    "\n",
    "# actual\n",
    "ax.plot(x+1, 100*y, label=\"Actual\", linestyle=\"-\")\n",
    "\n",
    "# linear\n",
    "ax.plot(x+1, 100*regres1.predict(x), label=\"Linear\", linestyle=\":\")\n",
    "\n",
    "# quad\n",
    "ax.plot(x+1, 100*regres2.predict(x1), label=\"Quadratic\", linestyle=\"-.\")\n",
    "\n",
    "# exp \n",
    "ax.plot(x+1, 100*np.exp(regres3.predict(x)), label=\"Exponential\", linestyle=\"--\")\n",
    "\n",
    "ax.legend(loc=\"best\")\n",
    "plt.show()"
   ]
  },
  {
   "cell_type": "code",
   "execution_count": 11,
   "metadata": {},
   "outputs": [
    {
     "data": {
      "image/png": "[encoded data removed]",
      "text/plain": [
       "<Figure size 432x288 with 1 Axes>"
      ]
     },
     "metadata": {
      "needs_background": "light"
     },
     "output_type": "display_data"
    }
   ],
   "source": [
    "# linear, exp input\n",
    "x = data.t.values.reshape(-1, 1)\n",
    "# quad input\n",
    "x1 = np.vstack((data.t.values, data.t.values**2)).T\n",
    "\n",
    "y = data.PrAlive.values\n",
    "\n",
    "fig = plt.figure()\n",
    "ax = fig.add_subplot(111)\n",
    "fig.subplots_adjust(top=0.85)\n",
    "\n",
    "ax.set_xlabel(\"Tenure(Years)\")\n",
    "ax.set_ylabel(\"%Surviving\")\n",
    "\n",
    "ax.axvline(x=5.5, color=\"r\", linestyle=\"--\")\n",
    "ax.axis([0,10, -110, 110])\n",
    "ax.set_xticks(np.arange(0,11,1))\n",
    "\n",
    "# Actual\n",
    "ax.plot(x+1, 100*y, label=\"Actual\", linestyle=\"-\")\n",
    "\n",
    "# Linear\n",
    "ax.plot(x+1, 100*regres1.predict(x), label=\"Linear\", linestyle=\":\")\n",
    "\n",
    "# Quad\n",
    "ax.plot(x+1, 100*regres2.predict(x1), label=\"Quadratic\", linestyle=\"--\")\n",
    "\n",
    "# Exp\n",
    "ax.plot(x+1, 100*np.exp(regres3.predict(x)), label=\"Exponential\", linestyle=\"-.\")\n",
    "\n",
    "ax.legend(loc=\"best\")\n",
    "plt.show()\n"
   ]
  },
  {
   "cell_type": "code",
   "execution_count": 27,
   "metadata": {},
   "outputs": [],
   "source": [
    "def GeoLL(theta, train_data):\n",
    "    N = len(train_data)\n",
    "    cust = train_data.Cust.values\n",
    "    \n",
    "    lost = np.zeros(N)\n",
    "    lost[0] = 0\n",
    "    for k in range(1, N):\n",
    "        lost[k] = cust[k-1] - cust[k]\n",
    "        \n",
    "    p_die = np.zeros(N)\n",
    "    for k in range(1, N):\n",
    "        p_die[k] = theta*((1-theta)**(k-1))\n",
    "                          \n",
    "    survivors = np.zeros(N)\n",
    "    survivors[0] = 1\n",
    "    for k in range(1, N):\n",
    "        survivors[k] = survivors[k-1] - p_die[k]\n",
    "    \n",
    "    LL = 0\n",
    "    for k in range(1, N):\n",
    "        LL += np.log(p_die[k])* lost[k]\n",
    "    LL += np.log(survivors[-1])*cust[-1]\n",
    "    return -LL"
   ]
  },
  {
   "cell_type": "code",
   "execution_count": 33,
   "metadata": {},
   "outputs": [
    {
     "data": {
      "text/plain": [
       "array([0.27166464])"
      ]
     },
     "execution_count": 33,
     "metadata": {},
     "output_type": "execute_result"
    }
   ],
   "source": [
    "initial_guess = [0.5]\n",
    "bnds = ((0.001, 0.99),)\n",
    "result = optimize.minimize(GeoLL, initial_guess, args=(train_data), bounds=bnds)\n",
    "result.x"
   ]
  },
  {
   "cell_type": "code",
   "execution_count": 44,
   "metadata": {},
   "outputs": [
    {
     "data": {
      "text/plain": [
       "array([1.        , 0.72833536, 0.53047239, 0.3863618 , 0.28140096])"
      ]
     },
     "execution_count": 44,
     "metadata": {},
     "output_type": "execute_result"
    }
   ],
   "source": [
    "prob = result.x[0]\n",
    "N = 5\n",
    "\n",
    "p_die = np.zeros(N)\n",
    "for k in range(1, N):\n",
    "    p_die[k] = prob*((1-prob)**(k-1))\n",
    "\n",
    "survivors = np.zeros(N)\n",
    "survivors[0] = 1\n",
    "for k in range(1, N):\n",
    "    survivors[k] = survivors[k-1] - p_die[k]\n",
    "\n",
    "survivors"
   ]
  },
  {
   "cell_type": "code",
   "execution_count": 46,
   "metadata": {},
   "outputs": [
    {
     "data": {
      "image/png": "[encoded data removed]",
      "text/plain": [
       "<Figure size 432x288 with 1 Axes>"
      ]
     },
     "metadata": {
      "needs_background": "light"
     },
     "output_type": "display_data"
    }
   ],
   "source": [
    "X=train_data.t.values.reshape(-1,1)\n",
    "y=train_data.PrAlive.values\n",
    "\n",
    "fig=plt.figure()\n",
    "ax=fig.add_subplot(111)\n",
    "fig.subplots_adjust(top=0.85)\n",
    "\n",
    "ax.set_xlabel('Tenure (years)')\n",
    "ax.set_ylabel('% Surviving')\n",
    "ax.axvline(x=5.5,color='r',linestyle='--')\n",
    "ax.axis([0,10,0,110])\n",
    "ax.set_xticks(np.arange(0,11,1.0))\n",
    "\n",
    "#actual\n",
    "ax.plot(X+1,100*y,label=\"Actual\",linestyle='-')\n",
    "\n",
    "#geo\n",
    "ax.plot(X+1,100*survivors,label=\"Geometric\",linestyle=':')\n",
    "ax.legend(loc='best')\n",
    "plt.show()"
   ]
  },
  {
   "cell_type": "code",
   "execution_count": 49,
   "metadata": {},
   "outputs": [
    {
     "data": {
      "text/plain": [
       "array([1.        , 0.72833536, 0.53047239, 0.3863618 , 0.28140096,\n",
       "       0.20495427, 0.14927544, 0.10872258, 0.0791865 , 0.05767433,\n",
       "       0.04200625, 0.03059464, 0.02228316])"
      ]
     },
     "execution_count": 49,
     "metadata": {},
     "output_type": "execute_result"
    }
   ],
   "source": [
    "prob1 = result.x[0]\n",
    "N = 13\n",
    "\n",
    "p_die1 = np.zeros(N)\n",
    "for k in range(1 ,N):\n",
    "    p_die1[k] = prob1*((1-prob1)**(k-1))\n",
    "\n",
    "survivors1 = np.zeros(N)\n",
    "survivors1[0] = 1\n",
    "for k in range(1, N):\n",
    "    survivors1[k] = survivors1[k-1] - p_die1[k]\n",
    "\n",
    "survivors1"
   ]
  },
  {
   "cell_type": "code",
   "execution_count": 59,
   "metadata": {},
   "outputs": [
    {
     "data": {
      "image/png": "[encoded data removed]",
      "text/plain": [
       "<Figure size 432x288 with 1 Axes>"
      ]
     },
     "metadata": {
      "needs_background": "light"
     },
     "output_type": "display_data"
    }
   ],
   "source": [
    "x = data.t.values.reshape(-1, 1)\n",
    "y = data.PrAlive.values\n",
    "\n",
    "fig = plt.figure()\n",
    "ax = fig.add_subplot(111)\n",
    "fig.subplots_adjust(top=0.85)\n",
    "\n",
    "ax.set_xlabel('Tenure (years)')\n",
    "ax.set_ylabel('% Surviving')\n",
    "\n",
    "ax.axvline(x=5.5, color=\"r\", linestyle=\"--\")\n",
    "ax.axis(([0, 10, 0, 110]))\n",
    "ax.set_xticks(np.arange(1, 11, 1))\n",
    "\n",
    "# actual\n",
    "ax.plot(x, 100*y, label=\"Actual\", linestyle=\":\")\n",
    "\n",
    "ax.plot(x, 100*survivors1, label=\"Geometric\", linestyle=\"-\")\n",
    "\n",
    "ax.legend(loc=\"best\")\n",
    "plt.show()"
   ]
  },
  {
   "cell_type": "code",
   "execution_count": null,
   "metadata": {},
   "outputs": [],
   "source": []
  }
 ],
 "metadata": {
  "kernelspec": {
   "display_name": "Python 3",
   "language": "python",
   "name": "python3"
  },
  "language_info": {
   "codemirror_mode": {
    "name": "ipython",
    "version": 3
   },
   "file_extension": ".py",
   "mimetype": "text/x-python",
   "name": "python",
   "nbconvert_exporter": "python",
   "pygments_lexer": "ipython3",
   "version": "3.8.5"
  }
 },
 "nbformat": 4,
 "nbformat_minor": 4
}
