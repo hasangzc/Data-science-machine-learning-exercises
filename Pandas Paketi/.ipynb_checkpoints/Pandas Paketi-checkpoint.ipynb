{
 "cells": [
  {
   "cell_type": "code",
   "execution_count": null,
   "metadata": {},
   "outputs": [],
   "source": [
    "#                                        PANDAS PAKETİ"
   ]
  },
  {
   "cell_type": "code",
   "execution_count": null,
   "metadata": {},
   "outputs": [],
   "source": [
    "# Pandas paketi hem yüksek performanslı hem de esnek veri analizinden doğmuştur.\n",
    "# Pandasta esas olarak 2 temel veri nesnesi bulunmakta.\n",
    "# 1) Seriler 2) Veri Çerçeveleri"
   ]
  },
  {
   "cell_type": "code",
   "execution_count": 3,
   "metadata": {},
   "outputs": [
    {
     "data": {
      "text/plain": [
       "0     5\n",
       "1    12\n",
       "2     8\n",
       "3     6\n",
       "4     9\n",
       "dtype: int64"
      ]
     },
     "execution_count": 3,
     "metadata": {},
     "output_type": "execute_result"
    }
   ],
   "source": [
    "#        PANDAS SERİLERİ\n",
    "# Pandas serilerini endekslenmiş 1 boyutlu diziler olarak düşünebiliriz.\n",
    "import pandas as pd\n",
    "pandas_seri = pd.Series([5, 12, 8, 6, 9])\n",
    "pandas_seri"
   ]
  },
  {
   "cell_type": "code",
   "execution_count": 4,
   "metadata": {},
   "outputs": [
    {
     "data": {
      "text/plain": [
       "a    12\n",
       "b     8\n",
       "c     9\n",
       "d    15\n",
       "e     6\n",
       "dtype: int64"
      ]
     },
     "execution_count": 4,
     "metadata": {},
     "output_type": "execute_result"
    }
   ],
   "source": [
    "# Varsayılan endeksler 0 dan başlayıp ardışık olarak artar.\n",
    "# Peki farklı indeks istersem;\n",
    "pandas_seri1 = pd.Series([12, 8, 9, 15, 6], index=[\"a\", \"b\", \"c\", \"d\", \"e\"])\n",
    "pandas_seri1"
   ]
  },
  {
   "cell_type": "code",
   "execution_count": 5,
   "metadata": {},
   "outputs": [
    {
     "name": "stdout",
     "output_type": "stream",
     "text": [
      "   Sepal_Length  Sepal_Width  Petal_Length  Petal_Width    Species\n",
      "0           5.1          3.5           1.4          0.2     setosa\n",
      "1           4.9          3.0           1.4          0.2     setosa\n",
      "2           4.7          3.2           1.3          0.2     setosa\n",
      "3           4.6          3.1           1.5          0.2     setosa\n",
      "4           5.0          3.6           1.4          0.2     setosa\n",
      "5           6.7          3.0           5.2          2.3  virginica\n",
      "6           6.3          2.5           5.0          1.9  virginica\n",
      "7           6.5          3.0           5.2          2.0  virginica\n",
      "8           6.2          3.4           5.4          2.3  virginica\n",
      "9           5.9          3.0           5.1          1.8  virginica\n"
     ]
    }
   ],
   "source": [
    "#     PANDAS VERİ ÇERÇEVELERİ\n",
    "# Günlük çalışmalarda kullandığımız çoğu veri 2 boyutludur(satır, sütun)\n",
    "# Pandas paketinde 2 boyutlu veri kümeleri Data Frame (Veri Çerçevesi) olarak isimlendirilir.\n",
    "# Bir pandas DataFrame oluşturmanın farklı yöntemleri vardır.\n",
    "# Bunlardan biri sözlük veri yapısını kullanmaktır.\n",
    "iris_dict = {\n",
    "    \"Sepal_Length\":[5.1, 4.9, 4.7, 4.6, 5.0, 6.7, 6.3, 6.5, 6.2, 5.9],\n",
    "    \"Sepal_Width\":[3.5, 3.0, 3.2, 3.1, 3.6, 3.0, 2.5, 3.0, 3.4, 3.0],\n",
    "    \"Petal_Length\":[1.4, 1.4, 1.3, 1.5, 1.4, 5.2, 5.0, 5.2, 5.4, 5.1],\n",
    "    \"Petal_Width\":[0.2, 0.2, 0.2, 0.2, 0.2, 2.3, 1.9, 2.0, 2.3, 1.8],\n",
    "    \"Species\"    :[\"setosa\", \"setosa\", \"setosa\", \"setosa\", \"setosa\",\n",
    "                  \"virginica\", \"virginica\", \"virginica\", \"virginica\", \"virginica\"]\n",
    "}\n",
    "import pandas as pd\n",
    "iris = pd.DataFrame(iris_dict)\n",
    "print(iris)"
   ]
  },
  {
   "cell_type": "code",
   "execution_count": 8,
   "metadata": {},
   "outputs": [
    {
     "name": "stdout",
     "output_type": "stream",
     "text": [
      "   Sepal_Length  Sepal_Width  Petal_Length  Petal_Width    Species  Gözlem_No\n",
      "0           5.1          3.5           1.4          0.2     setosa          1\n",
      "1           4.9          3.0           1.4          0.2     setosa          1\n",
      "2           4.7          3.2           1.3          0.2     setosa          1\n",
      "3           4.6          3.1           1.5          0.2     setosa          1\n",
      "4           5.0          3.6           1.4          0.2     setosa          1\n",
      "5           6.7          3.0           5.2          2.3  virginica          1\n",
      "6           6.3          2.5           5.0          1.9  virginica          1\n",
      "7           6.5          3.0           5.2          2.0  virginica          1\n",
      "8           6.2          3.4           5.4          2.3  virginica          1\n",
      "9           5.9          3.0           5.1          1.8  virginica          1\n"
     ]
    }
   ],
   "source": [
    "# Varolan bir Data Frame e sütun ekleyelim.\n",
    "iris[\"Gözlem_No\"] = 1\n",
    "print(iris)"
   ]
  },
  {
   "cell_type": "code",
   "execution_count": 9,
   "metadata": {},
   "outputs": [
    {
     "name": "stdout",
     "output_type": "stream",
     "text": [
      "   Sepal Lengt  Sepal Width  Petal Length  Petal Width    Species\n",
      "0            2            3             1            1     setosa\n",
      "1            5            3             1            1     setosa\n",
      "2            4            4             2            1     setosa\n",
      "3            5            4             2            1     setosa\n",
      "4            6            5             1            1     setosa\n",
      "5            9            6             5            3  virginica\n",
      "6           10            2             5            2  virginica\n",
      "7            8            3             5            2  virginica\n",
      "8           12            2             6            2  virginica\n",
      "9            6            3             5            2  virginica\n"
     ]
    }
   ],
   "source": [
    "# Sözlükten veri çerçevesi üretme yöntemi günlük hayatta kullanılabilecek bir yöntem değil.\n",
    "# Çok büyük verilerde bu verilerin sözlük olarak girilmesi oldukça zor.\n",
    "# Günlük hayatta kullandığımız veriler genelde excel, csv formatında.\n",
    "# Şimdi bir csv dosyası oluşturdum onu aktaracağım.\n",
    "import pandas as pd\n",
    "iris_csv = pd.read_csv(\"mycsv.csv\")\n",
    "print(iris_csv)"
   ]
  },
  {
   "cell_type": "code",
   "execution_count": 10,
   "metadata": {},
   "outputs": [
    {
     "data": {
      "text/plain": [
       "Index(['Sepal Lengt', 'Sepal Width', 'Petal Length', 'Petal Width', 'Species'], dtype='object')"
      ]
     },
     "execution_count": 10,
     "metadata": {},
     "output_type": "execute_result"
    }
   ],
   "source": [
    "# Veri çerçevem hangi sütunlardan oluşuyor.\n",
    "iris_csv.columns"
   ]
  },
  {
   "cell_type": "code",
   "execution_count": 11,
   "metadata": {},
   "outputs": [
    {
     "name": "stdout",
     "output_type": "stream",
     "text": [
      "   Taç Boy  Taç En  Çanak Boy  Çanak En        Tür\n",
      "0        2       3          1         1     setosa\n",
      "1        5       3          1         1     setosa\n",
      "2        4       4          2         1     setosa\n",
      "3        5       4          2         1     setosa\n",
      "4        6       5          1         1     setosa\n",
      "5        9       6          5         3  virginica\n",
      "6       10       2          5         2  virginica\n",
      "7        8       3          5         2  virginica\n",
      "8       12       2          6         2  virginica\n",
      "9        6       3          5         2  virginica\n"
     ]
    }
   ],
   "source": [
    "# iris_csv veri çerçevemizin sütun isimlerini değiştirelim.\n",
    "iris_csv.columns = [\"Taç Boy\", \"Taç En\", \"Çanak Boy\", \"Çanak En\", \"Tür\"]\n",
    "print(iris_csv)"
   ]
  },
  {
   "cell_type": "code",
   "execution_count": 14,
   "metadata": {},
   "outputs": [
    {
     "data": {
      "text/html": [
       "<div>\n",
       "<style scoped>\n",
       "    .dataframe tbody tr th:only-of-type {\n",
       "        vertical-align: middle;\n",
       "    }\n",
       "\n",
       "    .dataframe tbody tr th {\n",
       "        vertical-align: top;\n",
       "    }\n",
       "\n",
       "    .dataframe thead th {\n",
       "        text-align: right;\n",
       "    }\n",
       "</style>\n",
       "<table border=\"1\" class=\"dataframe\">\n",
       "  <thead>\n",
       "    <tr style=\"text-align: right;\">\n",
       "      <th></th>\n",
       "      <th>Taç Boy</th>\n",
       "      <th>Taç En</th>\n",
       "      <th>Çanak Boy</th>\n",
       "      <th>Çanak En</th>\n",
       "      <th>Tür</th>\n",
       "    </tr>\n",
       "  </thead>\n",
       "  <tbody>\n",
       "    <tr>\n",
       "      <th>0</th>\n",
       "      <td>2</td>\n",
       "      <td>3</td>\n",
       "      <td>1</td>\n",
       "      <td>1</td>\n",
       "      <td>setosa</td>\n",
       "    </tr>\n",
       "    <tr>\n",
       "      <th>1</th>\n",
       "      <td>5</td>\n",
       "      <td>3</td>\n",
       "      <td>1</td>\n",
       "      <td>1</td>\n",
       "      <td>setosa</td>\n",
       "    </tr>\n",
       "    <tr>\n",
       "      <th>2</th>\n",
       "      <td>4</td>\n",
       "      <td>4</td>\n",
       "      <td>2</td>\n",
       "      <td>1</td>\n",
       "      <td>setosa</td>\n",
       "    </tr>\n",
       "    <tr>\n",
       "      <th>3</th>\n",
       "      <td>5</td>\n",
       "      <td>4</td>\n",
       "      <td>2</td>\n",
       "      <td>1</td>\n",
       "      <td>setosa</td>\n",
       "    </tr>\n",
       "    <tr>\n",
       "      <th>4</th>\n",
       "      <td>6</td>\n",
       "      <td>5</td>\n",
       "      <td>1</td>\n",
       "      <td>1</td>\n",
       "      <td>setosa</td>\n",
       "    </tr>\n",
       "    <tr>\n",
       "      <th>5</th>\n",
       "      <td>9</td>\n",
       "      <td>6</td>\n",
       "      <td>5</td>\n",
       "      <td>3</td>\n",
       "      <td>virginica</td>\n",
       "    </tr>\n",
       "  </tbody>\n",
       "</table>\n",
       "</div>"
      ],
      "text/plain": [
       "   Taç Boy  Taç En  Çanak Boy  Çanak En        Tür\n",
       "0        2       3          1         1     setosa\n",
       "1        5       3          1         1     setosa\n",
       "2        4       4          2         1     setosa\n",
       "3        5       4          2         1     setosa\n",
       "4        6       5          1         1     setosa\n",
       "5        9       6          5         3  virginica"
      ]
     },
     "execution_count": 14,
     "metadata": {},
     "output_type": "execute_result"
    }
   ],
   "source": [
    "# Iris veri çerçevesinin genel yapısını .head() ile görebilirim.\n",
    "iris_csv.head(6)"
   ]
  },
  {
   "cell_type": "code",
   "execution_count": 15,
   "metadata": {},
   "outputs": [
    {
     "data": {
      "text/html": [
       "<div>\n",
       "<style scoped>\n",
       "    .dataframe tbody tr th:only-of-type {\n",
       "        vertical-align: middle;\n",
       "    }\n",
       "\n",
       "    .dataframe tbody tr th {\n",
       "        vertical-align: top;\n",
       "    }\n",
       "\n",
       "    .dataframe thead th {\n",
       "        text-align: right;\n",
       "    }\n",
       "</style>\n",
       "<table border=\"1\" class=\"dataframe\">\n",
       "  <thead>\n",
       "    <tr style=\"text-align: right;\">\n",
       "      <th></th>\n",
       "      <th>Taç Boy</th>\n",
       "      <th>Taç En</th>\n",
       "      <th>Çanak Boy</th>\n",
       "      <th>Çanak En</th>\n",
       "      <th>Tür</th>\n",
       "    </tr>\n",
       "  </thead>\n",
       "  <tbody>\n",
       "    <tr>\n",
       "      <th>8</th>\n",
       "      <td>12</td>\n",
       "      <td>2</td>\n",
       "      <td>6</td>\n",
       "      <td>2</td>\n",
       "      <td>virginica</td>\n",
       "    </tr>\n",
       "    <tr>\n",
       "      <th>9</th>\n",
       "      <td>6</td>\n",
       "      <td>3</td>\n",
       "      <td>5</td>\n",
       "      <td>2</td>\n",
       "      <td>virginica</td>\n",
       "    </tr>\n",
       "  </tbody>\n",
       "</table>\n",
       "</div>"
      ],
      "text/plain": [
       "   Taç Boy  Taç En  Çanak Boy  Çanak En        Tür\n",
       "8       12       2          6         2  virginica\n",
       "9        6       3          5         2  virginica"
      ]
     },
     "execution_count": 15,
     "metadata": {},
     "output_type": "execute_result"
    }
   ],
   "source": [
    "# Data Frame deki son satırları görmek için .tail()\n",
    "iris_csv.tail(2)"
   ]
  },
  {
   "cell_type": "code",
   "execution_count": 16,
   "metadata": {},
   "outputs": [
    {
     "data": {
      "text/plain": [
       "(10, 5)"
      ]
     },
     "execution_count": 16,
     "metadata": {},
     "output_type": "execute_result"
    }
   ],
   "source": [
    "iris_csv.shape"
   ]
  },
  {
   "cell_type": "code",
   "execution_count": 18,
   "metadata": {},
   "outputs": [
    {
     "name": "stdout",
     "output_type": "stream",
     "text": [
      "<class 'pandas.core.frame.DataFrame'>\n",
      "RangeIndex: 10 entries, 0 to 9\n",
      "Data columns (total 5 columns):\n",
      " #   Column     Non-Null Count  Dtype \n",
      "---  ------     --------------  ----- \n",
      " 0   Taç Boy    10 non-null     int64 \n",
      " 1   Taç En     10 non-null     int64 \n",
      " 2   Çanak Boy  10 non-null     int64 \n",
      " 3   Çanak En   10 non-null     int64 \n",
      " 4   Tür        10 non-null     object\n",
      "dtypes: int64(4), object(1)\n",
      "memory usage: 528.0+ bytes\n"
     ]
    }
   ],
   "source": [
    "iris_csv.info()"
   ]
  },
  {
   "cell_type": "code",
   "execution_count": 20,
   "metadata": {},
   "outputs": [
    {
     "data": {
      "text/html": [
       "<div>\n",
       "<style scoped>\n",
       "    .dataframe tbody tr th:only-of-type {\n",
       "        vertical-align: middle;\n",
       "    }\n",
       "\n",
       "    .dataframe tbody tr th {\n",
       "        vertical-align: top;\n",
       "    }\n",
       "\n",
       "    .dataframe thead th {\n",
       "        text-align: right;\n",
       "    }\n",
       "</style>\n",
       "<table border=\"1\" class=\"dataframe\">\n",
       "  <thead>\n",
       "    <tr style=\"text-align: right;\">\n",
       "      <th></th>\n",
       "      <th>Taç Boy</th>\n",
       "      <th>Taç En</th>\n",
       "      <th>Çanak Boy</th>\n",
       "      <th>Çanak En</th>\n",
       "      <th>Tür</th>\n",
       "    </tr>\n",
       "  </thead>\n",
       "  <tbody>\n",
       "    <tr>\n",
       "      <th>0</th>\n",
       "      <td>2</td>\n",
       "      <td>3</td>\n",
       "      <td>1</td>\n",
       "      <td>1</td>\n",
       "      <td>setosa</td>\n",
       "    </tr>\n",
       "    <tr>\n",
       "      <th>1</th>\n",
       "      <td>5</td>\n",
       "      <td>3</td>\n",
       "      <td>1</td>\n",
       "      <td>1</td>\n",
       "      <td>setosa</td>\n",
       "    </tr>\n",
       "    <tr>\n",
       "      <th>2</th>\n",
       "      <td>4</td>\n",
       "      <td>4</td>\n",
       "      <td>2</td>\n",
       "      <td>1</td>\n",
       "      <td>setosa</td>\n",
       "    </tr>\n",
       "    <tr>\n",
       "      <th>3</th>\n",
       "      <td>5</td>\n",
       "      <td>4</td>\n",
       "      <td>2</td>\n",
       "      <td>1</td>\n",
       "      <td>setosa</td>\n",
       "    </tr>\n",
       "    <tr>\n",
       "      <th>4</th>\n",
       "      <td>6</td>\n",
       "      <td>5</td>\n",
       "      <td>1</td>\n",
       "      <td>1</td>\n",
       "      <td>setosa</td>\n",
       "    </tr>\n",
       "    <tr>\n",
       "      <th>5</th>\n",
       "      <td>9</td>\n",
       "      <td>6</td>\n",
       "      <td>5</td>\n",
       "      <td>3</td>\n",
       "      <td>virginica</td>\n",
       "    </tr>\n",
       "    <tr>\n",
       "      <th>6</th>\n",
       "      <td>10</td>\n",
       "      <td>2</td>\n",
       "      <td>5</td>\n",
       "      <td>2</td>\n",
       "      <td>virginica</td>\n",
       "    </tr>\n",
       "    <tr>\n",
       "      <th>7</th>\n",
       "      <td>8</td>\n",
       "      <td>3</td>\n",
       "      <td>5</td>\n",
       "      <td>2</td>\n",
       "      <td>virginica</td>\n",
       "    </tr>\n",
       "    <tr>\n",
       "      <th>8</th>\n",
       "      <td>12</td>\n",
       "      <td>2</td>\n",
       "      <td>6</td>\n",
       "      <td>2</td>\n",
       "      <td>virginica</td>\n",
       "    </tr>\n",
       "    <tr>\n",
       "      <th>9</th>\n",
       "      <td>6</td>\n",
       "      <td>3</td>\n",
       "      <td>5</td>\n",
       "      <td>2</td>\n",
       "      <td>virginica</td>\n",
       "    </tr>\n",
       "  </tbody>\n",
       "</table>\n",
       "</div>"
      ],
      "text/plain": [
       "   Taç Boy  Taç En  Çanak Boy  Çanak En        Tür\n",
       "0        2       3          1         1     setosa\n",
       "1        5       3          1         1     setosa\n",
       "2        4       4          2         1     setosa\n",
       "3        5       4          2         1     setosa\n",
       "4        6       5          1         1     setosa\n",
       "5        9       6          5         3  virginica\n",
       "6       10       2          5         2  virginica\n",
       "7        8       3          5         2  virginica\n",
       "8       12       2          6         2  virginica\n",
       "9        6       3          5         2  virginica"
      ]
     },
     "execution_count": 20,
     "metadata": {},
     "output_type": "execute_result"
    }
   ],
   "source": [
    "iris_csv_copy = iris_csv.copy()\n",
    "iris_csv_copy"
   ]
  },
  {
   "cell_type": "code",
   "execution_count": 22,
   "metadata": {},
   "outputs": [
    {
     "name": "stdout",
     "output_type": "stream",
     "text": [
      "[[5.1 3.5 1.4 0.2 'setosa' 1]\n",
      " [4.9 3.0 1.4 0.2 'setosa' 1]\n",
      " [4.7 3.2 1.3 0.2 'setosa' 1]\n",
      " [4.6 3.1 1.5 0.2 'setosa' 1]\n",
      " [5.0 3.6 1.4 0.2 'setosa' 1]\n",
      " [6.7 3.0 5.2 2.3 'virginica' 1]\n",
      " [6.3 2.5 5.0 1.9 'virginica' 1]\n",
      " [6.5 3.0 5.2 2.0 'virginica' 1]\n",
      " [6.2 3.4 5.4 2.3 'virginica' 1]\n",
      " [5.9 3.0 5.1 1.8 'virginica' 1]]\n"
     ]
    }
   ],
   "source": [
    "# !!! Pandas paketi Numpy paketi üzerinde geliştirildi.\n",
    "# İstenirse bir pandas veri çerçevesini .values ile Numpy dizisine çevirebilirsin.\n",
    "np_dizi = iris.values\n",
    "print(np_dizi)"
   ]
  },
  {
   "cell_type": "code",
   "execution_count": 5,
   "metadata": {},
   "outputs": [
    {
     "name": "stdout",
     "output_type": "stream",
     "text": [
      "   Sepal_Length  Sepal_Width  Petal_Length  Petal_Width\n",
      "0           5.1          3.5           1.4          0.2\n",
      "1           4.9          3.0           1.4          0.2\n",
      "2           4.7          3.2           1.3          0.2\n",
      "3           4.6          3.1           1.5          0.2\n",
      "4           5.0          3.6           1.4          0.2\n",
      "5           6.7          3.0           5.2          2.3\n",
      "6           6.3          2.5           5.0          1.9\n",
      "7           6.5          3.0           5.2          2.0\n",
      "8           6.2          3.4           5.4          2.3\n",
      "9           5.9          3.0           5.1          1.8\n",
      "   Sepal_Length  Sepal_Width  Petal_Length  Petal_Width\n",
      "0      1.629241     1.252763      0.336472    -1.609438\n",
      "1      1.589235     1.098612      0.336472    -1.609438\n",
      "2      1.547563     1.163151      0.262364    -1.609438\n",
      "3      1.526056     1.131402      0.405465    -1.609438\n",
      "4      1.609438     1.280934      0.336472    -1.609438\n"
     ]
    }
   ],
   "source": [
    "# Numpy için geçerli metodları pandas veri çerçevelerine de uygulayabiliriz.\n",
    "# Önce veri çerçevemin sayısal sütunlarını seçelim.\n",
    "# NOT//  iloc: satır(row) ya da kolonu(column) indexlerine bagli olarak secerken\n",
    "# loc: kolon ya da satir isimlerine gore secersin\n",
    "import pandas as pd\n",
    "import numpy as np\n",
    "iris_dict = {\n",
    "    \"Sepal_Length\":[5.1, 4.9, 4.7, 4.6, 5.0, 6.7, 6.3, 6.5, 6.2, 5.9],\n",
    "    \"Sepal_Width\":[3.5, 3.0, 3.2, 3.1, 3.6, 3.0, 2.5, 3.0, 3.4, 3.0],\n",
    "    \"Petal_Length\":[1.4, 1.4, 1.3, 1.5, 1.4, 5.2, 5.0, 5.2, 5.4, 5.1],\n",
    "    \"Petal_Width\":[0.2, 0.2, 0.2, 0.2, 0.2, 2.3, 1.9, 2.0, 2.3, 1.8],\n",
    "    \"Species\"    :[\"setosa\", \"setosa\", \"setosa\", \"setosa\", \"setosa\",\n",
    "                  \"virginica\", \"virginica\", \"virginica\", \"virginica\", \"virginica\"]\n",
    "}\n",
    "import pandas as pd\n",
    "iris = pd.DataFrame(iris_dict)\n",
    "dizi = iris.iloc[:, [0, 1, 2, 3]]\n",
    "print(dizi)\n",
    "dizi_log = np.log(dizi)\n",
    "print(dizi_log.head())"
   ]
  },
  {
   "cell_type": "code",
   "execution_count": null,
   "metadata": {},
   "outputs": [],
   "source": [
    "# Pandas serileri: 1 Boyutlu           Pandas Veri Çerçeveler: 2 Boyutlu\n",
    "# Pandas daha fazla boyutlu veri yapılarınada izin verir.\n",
    "# Bunu pandas verilerinde çoklu indeks ekleyerek yaparız."
   ]
  },
  {
   "cell_type": "code",
   "execution_count": 6,
   "metadata": {},
   "outputs": [
    {
     "data": {
      "text/plain": [
       "(ABC, 2016)    25\n",
       "(ABC, 2017)    47\n",
       "(DEF, 2016)    84\n",
       "(DEF, 2017)    12\n",
       "(XYZ, 2016)    65\n",
       "(XYZ, 2017)    79\n",
       "(KLM, 2016)    26\n",
       "(KLM, 2017)    35\n",
       "dtype: int64"
      ]
     },
     "execution_count": 6,
     "metadata": {},
     "output_type": "execute_result"
    }
   ],
   "source": [
    "# Pandas serisine çoklu indeks ekleme:\n",
    "import pandas as pd\n",
    "indeks = [(\"ABC\", 2016), (\"ABC\", 2017),\n",
    "         (\"DEF\", 2016), (\"DEF\", 2017),\n",
    "         (\"XYZ\", 2016), (\"XYZ\", 2017),\n",
    "         (\"KLM\", 2016), (\"KLM\", 2017)]\n",
    "fiyatlar = [25, 47, 84, 12, 65, 79, 26, 35]\n",
    "hisseler = pd.Series(fiyatlar, index=indeks)\n",
    "hisseler"
   ]
  },
  {
   "cell_type": "code",
   "execution_count": 8,
   "metadata": {},
   "outputs": [
    {
     "data": {
      "text/plain": [
       "ABC  2016    25\n",
       "     2017    47\n",
       "DEF  2016    84\n",
       "     2017    12\n",
       "XYZ  2016    65\n",
       "     2017    79\n",
       "KLM  2016    26\n",
       "     2017    35\n",
       "dtype: int64"
      ]
     },
     "execution_count": 8,
     "metadata": {},
     "output_type": "execute_result"
    }
   ],
   "source": [
    "# Çoklu indeks kullanmanın daha etkin bir yolu;\n",
    "indeks =pd.MultiIndex.from_tuples(indeks)\n",
    "hisseler = pd.Series(fiyatlar, index=indeks)\n",
    "hisseler"
   ]
  },
  {
   "cell_type": "code",
   "execution_count": 11,
   "metadata": {},
   "outputs": [
    {
     "data": {
      "text/plain": [
       "Hisse  Yıl \n",
       "ABC    2016    25\n",
       "       2017    47\n",
       "DEF    2016    84\n",
       "       2017    12\n",
       "XYZ    2016    65\n",
       "       2017    79\n",
       "KLM    2016    26\n",
       "       2017    35\n",
       "dtype: int64"
      ]
     },
     "execution_count": 11,
     "metadata": {},
     "output_type": "execute_result"
    }
   ],
   "source": [
    "# İndeksleri isimlendirmekte mümkün;\n",
    "hisseler.index.names = [\"Hisse\", \"Yıl\"]\n",
    "hisseler"
   ]
  },
  {
   "cell_type": "code",
   "execution_count": 12,
   "metadata": {},
   "outputs": [
    {
     "data": {
      "text/html": [
       "<div>\n",
       "<style scoped>\n",
       "    .dataframe tbody tr th:only-of-type {\n",
       "        vertical-align: middle;\n",
       "    }\n",
       "\n",
       "    .dataframe tbody tr th {\n",
       "        vertical-align: top;\n",
       "    }\n",
       "\n",
       "    .dataframe thead th {\n",
       "        text-align: right;\n",
       "    }\n",
       "</style>\n",
       "<table border=\"1\" class=\"dataframe\">\n",
       "  <thead>\n",
       "    <tr style=\"text-align: right;\">\n",
       "      <th>Yıl</th>\n",
       "      <th>2016</th>\n",
       "      <th>2017</th>\n",
       "    </tr>\n",
       "    <tr>\n",
       "      <th>Hisse</th>\n",
       "      <th></th>\n",
       "      <th></th>\n",
       "    </tr>\n",
       "  </thead>\n",
       "  <tbody>\n",
       "    <tr>\n",
       "      <th>ABC</th>\n",
       "      <td>25</td>\n",
       "      <td>47</td>\n",
       "    </tr>\n",
       "    <tr>\n",
       "      <th>DEF</th>\n",
       "      <td>84</td>\n",
       "      <td>12</td>\n",
       "    </tr>\n",
       "    <tr>\n",
       "      <th>KLM</th>\n",
       "      <td>26</td>\n",
       "      <td>35</td>\n",
       "    </tr>\n",
       "    <tr>\n",
       "      <th>XYZ</th>\n",
       "      <td>65</td>\n",
       "      <td>79</td>\n",
       "    </tr>\n",
       "  </tbody>\n",
       "</table>\n",
       "</div>"
      ],
      "text/plain": [
       "Yıl    2016  2017\n",
       "Hisse            \n",
       "ABC      25    47\n",
       "DEF      84    12\n",
       "KLM      26    35\n",
       "XYZ      65    79"
      ]
     },
     "execution_count": 12,
     "metadata": {},
     "output_type": "execute_result"
    }
   ],
   "source": [
    "# Yukarıdaki hisseler verisi bir boyutlu. !!! Bir seriyi .unstack() metodu ile data frame e çevirebilirsin.\n",
    "hisseler.unstack()\n",
    "# .stack() ile tekrar eski haline çevirebilirsin!"
   ]
  },
  {
   "cell_type": "code",
   "execution_count": 18,
   "metadata": {},
   "outputs": [
    {
     "data": {
      "text/html": [
       "<div>\n",
       "<style scoped>\n",
       "    .dataframe tbody tr th:only-of-type {\n",
       "        vertical-align: middle;\n",
       "    }\n",
       "\n",
       "    .dataframe tbody tr th {\n",
       "        vertical-align: top;\n",
       "    }\n",
       "\n",
       "    .dataframe thead tr th {\n",
       "        text-align: left;\n",
       "    }\n",
       "</style>\n",
       "<table border=\"1\" class=\"dataframe\">\n",
       "  <thead>\n",
       "    <tr>\n",
       "      <th></th>\n",
       "      <th></th>\n",
       "      <th colspan=\"2\" halign=\"left\">Q1</th>\n",
       "      <th colspan=\"2\" halign=\"left\">Q2</th>\n",
       "      <th colspan=\"2\" halign=\"left\">Q3</th>\n",
       "      <th colspan=\"2\" halign=\"left\">Q4</th>\n",
       "    </tr>\n",
       "    <tr>\n",
       "      <th></th>\n",
       "      <th></th>\n",
       "      <th>Hacim</th>\n",
       "      <th>Kapanış</th>\n",
       "      <th>Hacim</th>\n",
       "      <th>Kapanış</th>\n",
       "      <th>Hacim</th>\n",
       "      <th>Kapanış</th>\n",
       "      <th>Hacim</th>\n",
       "      <th>Kapanış</th>\n",
       "    </tr>\n",
       "  </thead>\n",
       "  <tbody>\n",
       "    <tr>\n",
       "      <th rowspan=\"2\" valign=\"top\">ABC</th>\n",
       "      <th>2016</th>\n",
       "      <td>1072.5</td>\n",
       "      <td>32.4</td>\n",
       "      <td>12688.0</td>\n",
       "      <td>34.0</td>\n",
       "      <td>13689.0</td>\n",
       "      <td>35.2</td>\n",
       "      <td>18414.0</td>\n",
       "      <td>37.4</td>\n",
       "    </tr>\n",
       "    <tr>\n",
       "      <th>2017</th>\n",
       "      <td>10688.0</td>\n",
       "      <td>12.3</td>\n",
       "      <td>14348.0</td>\n",
       "      <td>13.2</td>\n",
       "      <td>15924.0</td>\n",
       "      <td>15.3</td>\n",
       "      <td>15244.0</td>\n",
       "      <td>18.0</td>\n",
       "    </tr>\n",
       "    <tr>\n",
       "      <th rowspan=\"2\" valign=\"top\">DEF</th>\n",
       "      <th>2016</th>\n",
       "      <td>14844.0</td>\n",
       "      <td>24.7</td>\n",
       "      <td>14999.0</td>\n",
       "      <td>22.5</td>\n",
       "      <td>13099.0</td>\n",
       "      <td>19.2</td>\n",
       "      <td>17555.0</td>\n",
       "      <td>15.5</td>\n",
       "    </tr>\n",
       "    <tr>\n",
       "      <th>2017</th>\n",
       "      <td>15606.0</td>\n",
       "      <td>18.5</td>\n",
       "      <td>16166.0</td>\n",
       "      <td>13.4</td>\n",
       "      <td>10627.0</td>\n",
       "      <td>15.8</td>\n",
       "      <td>13396.0</td>\n",
       "      <td>15.4</td>\n",
       "    </tr>\n",
       "    <tr>\n",
       "      <th rowspan=\"2\" valign=\"top\">KLM</th>\n",
       "      <th>2016</th>\n",
       "      <td>12656.0</td>\n",
       "      <td>20.6</td>\n",
       "      <td>17485.0</td>\n",
       "      <td>21.5</td>\n",
       "      <td>18965.0</td>\n",
       "      <td>22.4</td>\n",
       "      <td>15785.0</td>\n",
       "      <td>23.5</td>\n",
       "    </tr>\n",
       "    <tr>\n",
       "      <th>2017</th>\n",
       "      <td>13206.0</td>\n",
       "      <td>7.5</td>\n",
       "      <td>10656.0</td>\n",
       "      <td>7.6</td>\n",
       "      <td>15223.0</td>\n",
       "      <td>8.6</td>\n",
       "      <td>18320.0</td>\n",
       "      <td>9.4</td>\n",
       "    </tr>\n",
       "  </tbody>\n",
       "</table>\n",
       "</div>"
      ],
      "text/plain": [
       "               Q1               Q2               Q3               Q4        \n",
       "            Hacim Kapanış    Hacim Kapanış    Hacim Kapanış    Hacim Kapanış\n",
       "ABC 2016   1072.5    32.4  12688.0    34.0  13689.0    35.2  18414.0    37.4\n",
       "    2017  10688.0    12.3  14348.0    13.2  15924.0    15.3  15244.0    18.0\n",
       "DEF 2016  14844.0    24.7  14999.0    22.5  13099.0    19.2  17555.0    15.5\n",
       "    2017  15606.0    18.5  16166.0    13.4  10627.0    15.8  13396.0    15.4\n",
       "KLM 2016  12656.0    20.6  17485.0    21.5  18965.0    22.4  15785.0    23.5\n",
       "    2017  13206.0     7.5  10656.0     7.6  15223.0     8.6  18320.0     9.4"
      ]
     },
     "execution_count": 18,
     "metadata": {},
     "output_type": "execute_result"
    }
   ],
   "source": [
    "# Satırlar için çoklu indeks yapabildiğimiz gibi sütunlar içinde yapabiliriz.\n",
    "my_indeks  = pd.MultiIndex.from_product([[\"ABC\", \"DEF\", \"KLM\"], [2016, 2017]])\n",
    "columns = pd.MultiIndex.from_product([[\"Q1\", \"Q2\", \"Q3\", \"Q4\"], [\"Hacim\", \"Kapanış\"]])\n",
    "data = np.array([1072.5, 32.4, 12688, 34, 13689, 35.2, 18414, 37.4,\n",
    "               10688, 12.3, 14348, 13.2, 15924, 15.3, 15244, 18,\n",
    "                14844, 24.7, 14999, 22.5, 13099, 19.2, 17555, 15.5,\n",
    "                15606, 18.5, 16166, 13.4, 10627, 15.8, 13396, 15.4,\n",
    "                12656, 20.6, 17485, 21.5, 18965, 22.4, 15785, 23.5,\n",
    "                13206, 7.5, 10656, 7.6, 15223, 8.6, 18320, 9.4])\n",
    "data = np.reshape(data, (6, 8))\n",
    "my_hisseler = pd.DataFrame(data, index=my_indeks, columns=columns)\n",
    "my_hisseler"
   ]
  },
  {
   "cell_type": "code",
   "execution_count": 20,
   "metadata": {},
   "outputs": [
    {
     "name": "stdout",
     "output_type": "stream",
     "text": [
      "   Sepal_Length  Sepal_Width  Petal_Length  Petal_Width    Species\n",
      "0           5.1          3.5           1.4          0.2     setosa\n",
      "1           4.9          3.0           1.4          0.2     setosa\n",
      "2           4.7          3.2           1.3          0.2     setosa\n",
      "3           4.6          3.1           1.5          0.2     setosa\n",
      "4           5.0          3.6           1.4          0.2     setosa\n",
      "5           6.7          3.0           5.2          2.3  virginica\n",
      "6           6.3          2.5           5.0          1.9  virginica\n",
      "7           6.5          3.0           5.2          2.0  virginica\n",
      "8           6.2          3.4           5.4          2.3  virginica\n",
      "9           5.9          3.0           5.1          1.8  virginica\n"
     ]
    },
    {
     "data": {
      "text/plain": [
       "0    5.1\n",
       "1    4.9\n",
       "2    4.7\n",
       "3    4.6\n",
       "4    5.0\n",
       "5    6.7\n",
       "6    6.3\n",
       "7    6.5\n",
       "8    6.2\n",
       "9    5.9\n",
       "Name: Sepal_Length, dtype: float64"
      ]
     },
     "execution_count": 20,
     "metadata": {},
     "output_type": "execute_result"
    }
   ],
   "source": [
    "# Bir veri çerçevesinde herhangi bir sütunu görmek için; data_frame[\"sütun_ismi\"]\n",
    "print(iris)\n",
    "iris[\"Sepal_Length\"]"
   ]
  },
  {
   "cell_type": "code",
   "execution_count": 21,
   "metadata": {},
   "outputs": [
    {
     "data": {
      "text/html": [
       "<div>\n",
       "<style scoped>\n",
       "    .dataframe tbody tr th:only-of-type {\n",
       "        vertical-align: middle;\n",
       "    }\n",
       "\n",
       "    .dataframe tbody tr th {\n",
       "        vertical-align: top;\n",
       "    }\n",
       "\n",
       "    .dataframe thead th {\n",
       "        text-align: right;\n",
       "    }\n",
       "</style>\n",
       "<table border=\"1\" class=\"dataframe\">\n",
       "  <thead>\n",
       "    <tr style=\"text-align: right;\">\n",
       "      <th></th>\n",
       "      <th>Sepal_Length</th>\n",
       "    </tr>\n",
       "  </thead>\n",
       "  <tbody>\n",
       "    <tr>\n",
       "      <th>0</th>\n",
       "      <td>5.1</td>\n",
       "    </tr>\n",
       "    <tr>\n",
       "      <th>1</th>\n",
       "      <td>4.9</td>\n",
       "    </tr>\n",
       "    <tr>\n",
       "      <th>2</th>\n",
       "      <td>4.7</td>\n",
       "    </tr>\n",
       "    <tr>\n",
       "      <th>3</th>\n",
       "      <td>4.6</td>\n",
       "    </tr>\n",
       "    <tr>\n",
       "      <th>4</th>\n",
       "      <td>5.0</td>\n",
       "    </tr>\n",
       "    <tr>\n",
       "      <th>5</th>\n",
       "      <td>6.7</td>\n",
       "    </tr>\n",
       "    <tr>\n",
       "      <th>6</th>\n",
       "      <td>6.3</td>\n",
       "    </tr>\n",
       "    <tr>\n",
       "      <th>7</th>\n",
       "      <td>6.5</td>\n",
       "    </tr>\n",
       "    <tr>\n",
       "      <th>8</th>\n",
       "      <td>6.2</td>\n",
       "    </tr>\n",
       "    <tr>\n",
       "      <th>9</th>\n",
       "      <td>5.9</td>\n",
       "    </tr>\n",
       "  </tbody>\n",
       "</table>\n",
       "</div>"
      ],
      "text/plain": [
       "   Sepal_Length\n",
       "0           5.1\n",
       "1           4.9\n",
       "2           4.7\n",
       "3           4.6\n",
       "4           5.0\n",
       "5           6.7\n",
       "6           6.3\n",
       "7           6.5\n",
       "8           6.2\n",
       "9           5.9"
      ]
     },
     "execution_count": 21,
     "metadata": {},
     "output_type": "execute_result"
    }
   ],
   "source": [
    "# NOT!! Veri setindeki veriyi [sütun_ismi] şeklinde kullarnırsan çıktıyı tek boyutlu olan seri olarak alırsın.\n",
    "# [[sütun_ismi]] şeklinde kullanırsan çıktıyı data frame olarak alalım.\n",
    "iris[[\"Sepal_Length\"]]"
   ]
  },
  {
   "cell_type": "code",
   "execution_count": 22,
   "metadata": {},
   "outputs": [
    {
     "data": {
      "text/html": [
       "<div>\n",
       "<style scoped>\n",
       "    .dataframe tbody tr th:only-of-type {\n",
       "        vertical-align: middle;\n",
       "    }\n",
       "\n",
       "    .dataframe tbody tr th {\n",
       "        vertical-align: top;\n",
       "    }\n",
       "\n",
       "    .dataframe thead th {\n",
       "        text-align: right;\n",
       "    }\n",
       "</style>\n",
       "<table border=\"1\" class=\"dataframe\">\n",
       "  <thead>\n",
       "    <tr style=\"text-align: right;\">\n",
       "      <th></th>\n",
       "      <th>Sepal_Length</th>\n",
       "      <th>Sepal_Width</th>\n",
       "    </tr>\n",
       "  </thead>\n",
       "  <tbody>\n",
       "    <tr>\n",
       "      <th>0</th>\n",
       "      <td>5.1</td>\n",
       "      <td>3.5</td>\n",
       "    </tr>\n",
       "    <tr>\n",
       "      <th>1</th>\n",
       "      <td>4.9</td>\n",
       "      <td>3.0</td>\n",
       "    </tr>\n",
       "    <tr>\n",
       "      <th>2</th>\n",
       "      <td>4.7</td>\n",
       "      <td>3.2</td>\n",
       "    </tr>\n",
       "    <tr>\n",
       "      <th>3</th>\n",
       "      <td>4.6</td>\n",
       "      <td>3.1</td>\n",
       "    </tr>\n",
       "    <tr>\n",
       "      <th>4</th>\n",
       "      <td>5.0</td>\n",
       "      <td>3.6</td>\n",
       "    </tr>\n",
       "    <tr>\n",
       "      <th>5</th>\n",
       "      <td>6.7</td>\n",
       "      <td>3.0</td>\n",
       "    </tr>\n",
       "    <tr>\n",
       "      <th>6</th>\n",
       "      <td>6.3</td>\n",
       "      <td>2.5</td>\n",
       "    </tr>\n",
       "    <tr>\n",
       "      <th>7</th>\n",
       "      <td>6.5</td>\n",
       "      <td>3.0</td>\n",
       "    </tr>\n",
       "    <tr>\n",
       "      <th>8</th>\n",
       "      <td>6.2</td>\n",
       "      <td>3.4</td>\n",
       "    </tr>\n",
       "    <tr>\n",
       "      <th>9</th>\n",
       "      <td>5.9</td>\n",
       "      <td>3.0</td>\n",
       "    </tr>\n",
       "  </tbody>\n",
       "</table>\n",
       "</div>"
      ],
      "text/plain": [
       "   Sepal_Length  Sepal_Width\n",
       "0           5.1          3.5\n",
       "1           4.9          3.0\n",
       "2           4.7          3.2\n",
       "3           4.6          3.1\n",
       "4           5.0          3.6\n",
       "5           6.7          3.0\n",
       "6           6.3          2.5\n",
       "7           6.5          3.0\n",
       "8           6.2          3.4\n",
       "9           5.9          3.0"
      ]
     },
     "execution_count": 22,
     "metadata": {},
     "output_type": "execute_result"
    }
   ],
   "source": [
    "iris[[\"Sepal_Length\", \"Sepal_Width\"]]\n"
   ]
  },
  {
   "cell_type": "code",
   "execution_count": 23,
   "metadata": {},
   "outputs": [
    {
     "data": {
      "text/html": [
       "<div>\n",
       "<style scoped>\n",
       "    .dataframe tbody tr th:only-of-type {\n",
       "        vertical-align: middle;\n",
       "    }\n",
       "\n",
       "    .dataframe tbody tr th {\n",
       "        vertical-align: top;\n",
       "    }\n",
       "\n",
       "    .dataframe thead th {\n",
       "        text-align: right;\n",
       "    }\n",
       "</style>\n",
       "<table border=\"1\" class=\"dataframe\">\n",
       "  <thead>\n",
       "    <tr style=\"text-align: right;\">\n",
       "      <th></th>\n",
       "      <th>Sepal_Length</th>\n",
       "      <th>Sepal_Width</th>\n",
       "      <th>Petal_Length</th>\n",
       "      <th>Petal_Width</th>\n",
       "      <th>Species</th>\n",
       "    </tr>\n",
       "  </thead>\n",
       "  <tbody>\n",
       "    <tr>\n",
       "      <th>2</th>\n",
       "      <td>4.7</td>\n",
       "      <td>3.2</td>\n",
       "      <td>1.3</td>\n",
       "      <td>0.2</td>\n",
       "      <td>setosa</td>\n",
       "    </tr>\n",
       "    <tr>\n",
       "      <th>3</th>\n",
       "      <td>4.6</td>\n",
       "      <td>3.1</td>\n",
       "      <td>1.5</td>\n",
       "      <td>0.2</td>\n",
       "      <td>setosa</td>\n",
       "    </tr>\n",
       "    <tr>\n",
       "      <th>4</th>\n",
       "      <td>5.0</td>\n",
       "      <td>3.6</td>\n",
       "      <td>1.4</td>\n",
       "      <td>0.2</td>\n",
       "      <td>setosa</td>\n",
       "    </tr>\n",
       "  </tbody>\n",
       "</table>\n",
       "</div>"
      ],
      "text/plain": [
       "   Sepal_Length  Sepal_Width  Petal_Length  Petal_Width Species\n",
       "2           4.7          3.2           1.3          0.2  setosa\n",
       "3           4.6          3.1           1.5          0.2  setosa\n",
       "4           5.0          3.6           1.4          0.2  setosa"
      ]
     },
     "execution_count": 23,
     "metadata": {},
     "output_type": "execute_result"
    }
   ],
   "source": [
    "# Satır seçelim;\n",
    "iris[2: 5]\n"
   ]
  },
  {
   "cell_type": "code",
   "execution_count": 24,
   "metadata": {},
   "outputs": [
    {
     "data": {
      "text/html": [
       "<div>\n",
       "<style scoped>\n",
       "    .dataframe tbody tr th:only-of-type {\n",
       "        vertical-align: middle;\n",
       "    }\n",
       "\n",
       "    .dataframe tbody tr th {\n",
       "        vertical-align: top;\n",
       "    }\n",
       "\n",
       "    .dataframe thead th {\n",
       "        text-align: right;\n",
       "    }\n",
       "</style>\n",
       "<table border=\"1\" class=\"dataframe\">\n",
       "  <thead>\n",
       "    <tr style=\"text-align: right;\">\n",
       "      <th></th>\n",
       "      <th>acilis</th>\n",
       "      <th>en_dusuk</th>\n",
       "      <th>en_yuksek</th>\n",
       "      <th>kapanis</th>\n",
       "    </tr>\n",
       "  </thead>\n",
       "  <tbody>\n",
       "    <tr>\n",
       "      <th>ABC</th>\n",
       "      <td>3.25</td>\n",
       "      <td>3.15</td>\n",
       "      <td>3.50</td>\n",
       "      <td>3.15</td>\n",
       "    </tr>\n",
       "    <tr>\n",
       "      <th>DEF</th>\n",
       "      <td>5.40</td>\n",
       "      <td>5.00</td>\n",
       "      <td>6.00</td>\n",
       "      <td>6.00</td>\n",
       "    </tr>\n",
       "    <tr>\n",
       "      <th>KLM</th>\n",
       "      <td>15.75</td>\n",
       "      <td>15.25</td>\n",
       "      <td>16.75</td>\n",
       "      <td>16.50</td>\n",
       "    </tr>\n",
       "    <tr>\n",
       "      <th>XYZ</th>\n",
       "      <td>80.20</td>\n",
       "      <td>75.00</td>\n",
       "      <td>85.25</td>\n",
       "      <td>84.30</td>\n",
       "    </tr>\n",
       "    <tr>\n",
       "      <th>IJK</th>\n",
       "      <td>17.50</td>\n",
       "      <td>16.00</td>\n",
       "      <td>19.00</td>\n",
       "      <td>18.20</td>\n",
       "    </tr>\n",
       "    <tr>\n",
       "      <th>VYZ</th>\n",
       "      <td>25.70</td>\n",
       "      <td>24.10</td>\n",
       "      <td>27.50</td>\n",
       "      <td>26.80</td>\n",
       "    </tr>\n",
       "    <tr>\n",
       "      <th>ERN</th>\n",
       "      <td>95.00</td>\n",
       "      <td>90.20</td>\n",
       "      <td>99.50</td>\n",
       "      <td>97.50</td>\n",
       "    </tr>\n",
       "    <tr>\n",
       "      <th>HEA</th>\n",
       "      <td>55.00</td>\n",
       "      <td>53.00</td>\n",
       "      <td>57.40</td>\n",
       "      <td>59.30</td>\n",
       "    </tr>\n",
       "  </tbody>\n",
       "</table>\n",
       "</div>"
      ],
      "text/plain": [
       "     acilis  en_dusuk  en_yuksek  kapanis\n",
       "ABC    3.25      3.15       3.50     3.15\n",
       "DEF    5.40      5.00       6.00     6.00\n",
       "KLM   15.75     15.25      16.75    16.50\n",
       "XYZ   80.20     75.00      85.25    84.30\n",
       "IJK   17.50     16.00      19.00    18.20\n",
       "VYZ   25.70     24.10      27.50    26.80\n",
       "ERN   95.00     90.20      99.50    97.50\n",
       "HEA   55.00     53.00      57.40    59.30"
      ]
     },
     "execution_count": 24,
     "metadata": {},
     "output_type": "execute_result"
    }
   ],
   "source": [
    "shares_csv = pd.read_csv(\"sharescsv.csv\", index_col=0)\n",
    "shares_csv"
   ]
  },
  {
   "cell_type": "code",
   "execution_count": 25,
   "metadata": {},
   "outputs": [
    {
     "data": {
      "text/plain": [
       "acilis       17.5\n",
       "en_dusuk     16.0\n",
       "en_yuksek    19.0\n",
       "kapanis      18.2\n",
       "Name: IJK, dtype: float64"
      ]
     },
     "execution_count": 25,
     "metadata": {},
     "output_type": "execute_result"
    }
   ],
   "source": [
    "shares_csv.loc[\"IJK\"]"
   ]
  },
  {
   "cell_type": "code",
   "execution_count": 26,
   "metadata": {},
   "outputs": [
    {
     "data": {
      "text/html": [
       "<div>\n",
       "<style scoped>\n",
       "    .dataframe tbody tr th:only-of-type {\n",
       "        vertical-align: middle;\n",
       "    }\n",
       "\n",
       "    .dataframe tbody tr th {\n",
       "        vertical-align: top;\n",
       "    }\n",
       "\n",
       "    .dataframe thead th {\n",
       "        text-align: right;\n",
       "    }\n",
       "</style>\n",
       "<table border=\"1\" class=\"dataframe\">\n",
       "  <thead>\n",
       "    <tr style=\"text-align: right;\">\n",
       "      <th></th>\n",
       "      <th>acilis</th>\n",
       "      <th>en_dusuk</th>\n",
       "      <th>en_yuksek</th>\n",
       "      <th>kapanis</th>\n",
       "    </tr>\n",
       "  </thead>\n",
       "  <tbody>\n",
       "    <tr>\n",
       "      <th>IJK</th>\n",
       "      <td>17.5</td>\n",
       "      <td>16.0</td>\n",
       "      <td>19.0</td>\n",
       "      <td>18.2</td>\n",
       "    </tr>\n",
       "  </tbody>\n",
       "</table>\n",
       "</div>"
      ],
      "text/plain": [
       "     acilis  en_dusuk  en_yuksek  kapanis\n",
       "IJK    17.5      16.0       19.0     18.2"
      ]
     },
     "execution_count": 26,
     "metadata": {},
     "output_type": "execute_result"
    }
   ],
   "source": [
    "shares_csv.loc[[\"IJK\"]] "
   ]
  },
  {
   "cell_type": "code",
   "execution_count": 27,
   "metadata": {},
   "outputs": [
    {
     "data": {
      "text/html": [
       "<div>\n",
       "<style scoped>\n",
       "    .dataframe tbody tr th:only-of-type {\n",
       "        vertical-align: middle;\n",
       "    }\n",
       "\n",
       "    .dataframe tbody tr th {\n",
       "        vertical-align: top;\n",
       "    }\n",
       "\n",
       "    .dataframe thead th {\n",
       "        text-align: right;\n",
       "    }\n",
       "</style>\n",
       "<table border=\"1\" class=\"dataframe\">\n",
       "  <thead>\n",
       "    <tr style=\"text-align: right;\">\n",
       "      <th></th>\n",
       "      <th>acilis</th>\n",
       "      <th>en_dusuk</th>\n",
       "      <th>en_yuksek</th>\n",
       "      <th>kapanis</th>\n",
       "    </tr>\n",
       "  </thead>\n",
       "  <tbody>\n",
       "    <tr>\n",
       "      <th>ERN</th>\n",
       "      <td>95.00</td>\n",
       "      <td>90.20</td>\n",
       "      <td>99.5</td>\n",
       "      <td>97.50</td>\n",
       "    </tr>\n",
       "    <tr>\n",
       "      <th>ABC</th>\n",
       "      <td>3.25</td>\n",
       "      <td>3.15</td>\n",
       "      <td>3.5</td>\n",
       "      <td>3.15</td>\n",
       "    </tr>\n",
       "  </tbody>\n",
       "</table>\n",
       "</div>"
      ],
      "text/plain": [
       "     acilis  en_dusuk  en_yuksek  kapanis\n",
       "ERN   95.00     90.20       99.5    97.50\n",
       "ABC    3.25      3.15        3.5     3.15"
      ]
     },
     "execution_count": 27,
     "metadata": {},
     "output_type": "execute_result"
    }
   ],
   "source": [
    "shares_csv.loc[[\"ERN\", \"ABC\"]]"
   ]
  },
  {
   "cell_type": "code",
   "execution_count": 28,
   "metadata": {},
   "outputs": [
    {
     "data": {
      "text/plain": [
       "95.0"
      ]
     },
     "execution_count": 28,
     "metadata": {},
     "output_type": "execute_result"
    }
   ],
   "source": [
    "shares_csv[\"acilis\"][\"ERN\"]\n",
    "# Aynı seçimi şu şekildede yapabilirsin--> shares_csv.acilis[\"ERN\"]"
   ]
  },
  {
   "cell_type": "code",
   "execution_count": 31,
   "metadata": {},
   "outputs": [
    {
     "data": {
      "text/html": [
       "<div>\n",
       "<style scoped>\n",
       "    .dataframe tbody tr th:only-of-type {\n",
       "        vertical-align: middle;\n",
       "    }\n",
       "\n",
       "    .dataframe tbody tr th {\n",
       "        vertical-align: top;\n",
       "    }\n",
       "\n",
       "    .dataframe thead th {\n",
       "        text-align: right;\n",
       "    }\n",
       "</style>\n",
       "<table border=\"1\" class=\"dataframe\">\n",
       "  <thead>\n",
       "    <tr style=\"text-align: right;\">\n",
       "      <th></th>\n",
       "      <th>en_dusuk</th>\n",
       "      <th>en_yuksek</th>\n",
       "    </tr>\n",
       "  </thead>\n",
       "  <tbody>\n",
       "    <tr>\n",
       "      <th>KLM</th>\n",
       "      <td>15.25</td>\n",
       "      <td>16.75</td>\n",
       "    </tr>\n",
       "    <tr>\n",
       "      <th>VYZ</th>\n",
       "      <td>24.10</td>\n",
       "      <td>27.50</td>\n",
       "    </tr>\n",
       "  </tbody>\n",
       "</table>\n",
       "</div>"
      ],
      "text/plain": [
       "     en_dusuk  en_yuksek\n",
       "KLM     15.25      16.75\n",
       "VYZ     24.10      27.50"
      ]
     },
     "execution_count": 31,
     "metadata": {},
     "output_type": "execute_result"
    }
   ],
   "source": [
    "shares_csv.loc[[\"KLM\", \"VYZ\"],[\"en_dusuk\", \"en_yuksek\"]]"
   ]
  },
  {
   "cell_type": "code",
   "execution_count": 33,
   "metadata": {},
   "outputs": [
    {
     "data": {
      "text/html": [
       "<div>\n",
       "<style scoped>\n",
       "    .dataframe tbody tr th:only-of-type {\n",
       "        vertical-align: middle;\n",
       "    }\n",
       "\n",
       "    .dataframe tbody tr th {\n",
       "        vertical-align: top;\n",
       "    }\n",
       "\n",
       "    .dataframe thead th {\n",
       "        text-align: right;\n",
       "    }\n",
       "</style>\n",
       "<table border=\"1\" class=\"dataframe\">\n",
       "  <thead>\n",
       "    <tr style=\"text-align: right;\">\n",
       "      <th></th>\n",
       "      <th>en_dusuk</th>\n",
       "      <th>en_yuksek</th>\n",
       "    </tr>\n",
       "  </thead>\n",
       "  <tbody>\n",
       "    <tr>\n",
       "      <th>ABC</th>\n",
       "      <td>3.15</td>\n",
       "      <td>3.50</td>\n",
       "    </tr>\n",
       "    <tr>\n",
       "      <th>DEF</th>\n",
       "      <td>5.00</td>\n",
       "      <td>6.00</td>\n",
       "    </tr>\n",
       "    <tr>\n",
       "      <th>KLM</th>\n",
       "      <td>15.25</td>\n",
       "      <td>16.75</td>\n",
       "    </tr>\n",
       "    <tr>\n",
       "      <th>XYZ</th>\n",
       "      <td>75.00</td>\n",
       "      <td>85.25</td>\n",
       "    </tr>\n",
       "    <tr>\n",
       "      <th>IJK</th>\n",
       "      <td>16.00</td>\n",
       "      <td>19.00</td>\n",
       "    </tr>\n",
       "    <tr>\n",
       "      <th>VYZ</th>\n",
       "      <td>24.10</td>\n",
       "      <td>27.50</td>\n",
       "    </tr>\n",
       "    <tr>\n",
       "      <th>ERN</th>\n",
       "      <td>90.20</td>\n",
       "      <td>99.50</td>\n",
       "    </tr>\n",
       "    <tr>\n",
       "      <th>HEA</th>\n",
       "      <td>53.00</td>\n",
       "      <td>57.40</td>\n",
       "    </tr>\n",
       "  </tbody>\n",
       "</table>\n",
       "</div>"
      ],
      "text/plain": [
       "     en_dusuk  en_yuksek\n",
       "ABC      3.15       3.50\n",
       "DEF      5.00       6.00\n",
       "KLM     15.25      16.75\n",
       "XYZ     75.00      85.25\n",
       "IJK     16.00      19.00\n",
       "VYZ     24.10      27.50\n",
       "ERN     90.20      99.50\n",
       "HEA     53.00      57.40"
      ]
     },
     "execution_count": 33,
     "metadata": {},
     "output_type": "execute_result"
    }
   ],
   "source": [
    "shares_csv.loc[:, [\"en_dusuk\", \"en_yuksek\"]]"
   ]
  },
  {
   "cell_type": "code",
   "execution_count": 34,
   "metadata": {},
   "outputs": [
    {
     "data": {
      "text/plain": [
       "acilis       5.4\n",
       "en_dusuk     5.0\n",
       "en_yuksek    6.0\n",
       "kapanis      6.0\n",
       "Name: DEF, dtype: float64"
      ]
     },
     "execution_count": 34,
     "metadata": {},
     "output_type": "execute_result"
    }
   ],
   "source": [
    "# Satır ve sütun isimleri yerine indeks no ile seçim yapmak için iloc kullanılır.\n",
    "shares_csv.iloc[1]"
   ]
  },
  {
   "cell_type": "code",
   "execution_count": 35,
   "metadata": {},
   "outputs": [
    {
     "data": {
      "text/html": [
       "<div>\n",
       "<style scoped>\n",
       "    .dataframe tbody tr th:only-of-type {\n",
       "        vertical-align: middle;\n",
       "    }\n",
       "\n",
       "    .dataframe tbody tr th {\n",
       "        vertical-align: top;\n",
       "    }\n",
       "\n",
       "    .dataframe thead th {\n",
       "        text-align: right;\n",
       "    }\n",
       "</style>\n",
       "<table border=\"1\" class=\"dataframe\">\n",
       "  <thead>\n",
       "    <tr style=\"text-align: right;\">\n",
       "      <th></th>\n",
       "      <th>en_yuksek</th>\n",
       "      <th>kapanis</th>\n",
       "    </tr>\n",
       "  </thead>\n",
       "  <tbody>\n",
       "    <tr>\n",
       "      <th>DEF</th>\n",
       "      <td>6.00</td>\n",
       "      <td>6.0</td>\n",
       "    </tr>\n",
       "    <tr>\n",
       "      <th>KLM</th>\n",
       "      <td>16.75</td>\n",
       "      <td>16.5</td>\n",
       "    </tr>\n",
       "    <tr>\n",
       "      <th>XYZ</th>\n",
       "      <td>85.25</td>\n",
       "      <td>84.3</td>\n",
       "    </tr>\n",
       "  </tbody>\n",
       "</table>\n",
       "</div>"
      ],
      "text/plain": [
       "     en_yuksek  kapanis\n",
       "DEF       6.00      6.0\n",
       "KLM      16.75     16.5\n",
       "XYZ      85.25     84.3"
      ]
     },
     "execution_count": 35,
     "metadata": {},
     "output_type": "execute_result"
    }
   ],
   "source": [
    "shares_csv.iloc[[1, 2, 3], [2, 3]]"
   ]
  },
  {
   "cell_type": "code",
   "execution_count": 36,
   "metadata": {},
   "outputs": [
    {
     "data": {
      "text/plain": [
       "ABC     3.15\n",
       "DEF     6.00\n",
       "KLM    16.50\n",
       "XYZ    84.30\n",
       "Name: kapanis, dtype: float64"
      ]
     },
     "execution_count": 36,
     "metadata": {},
     "output_type": "execute_result"
    }
   ],
   "source": [
    "shares_csv[\"kapanis\"][0:4]"
   ]
  },
  {
   "cell_type": "code",
   "execution_count": 37,
   "metadata": {},
   "outputs": [
    {
     "data": {
      "text/html": [
       "<div>\n",
       "<style scoped>\n",
       "    .dataframe tbody tr th:only-of-type {\n",
       "        vertical-align: middle;\n",
       "    }\n",
       "\n",
       "    .dataframe tbody tr th {\n",
       "        vertical-align: top;\n",
       "    }\n",
       "\n",
       "    .dataframe thead th {\n",
       "        text-align: right;\n",
       "    }\n",
       "</style>\n",
       "<table border=\"1\" class=\"dataframe\">\n",
       "  <thead>\n",
       "    <tr style=\"text-align: right;\">\n",
       "      <th></th>\n",
       "      <th>acilis</th>\n",
       "      <th>en_dusuk</th>\n",
       "      <th>en_yuksek</th>\n",
       "      <th>kapanis</th>\n",
       "    </tr>\n",
       "  </thead>\n",
       "  <tbody>\n",
       "    <tr>\n",
       "      <th>KLM</th>\n",
       "      <td>15.75</td>\n",
       "      <td>15.25</td>\n",
       "      <td>16.75</td>\n",
       "      <td>16.50</td>\n",
       "    </tr>\n",
       "    <tr>\n",
       "      <th>DEF</th>\n",
       "      <td>5.40</td>\n",
       "      <td>5.00</td>\n",
       "      <td>6.00</td>\n",
       "      <td>6.00</td>\n",
       "    </tr>\n",
       "    <tr>\n",
       "      <th>ABC</th>\n",
       "      <td>3.25</td>\n",
       "      <td>3.15</td>\n",
       "      <td>3.50</td>\n",
       "      <td>3.15</td>\n",
       "    </tr>\n",
       "  </tbody>\n",
       "</table>\n",
       "</div>"
      ],
      "text/plain": [
       "     acilis  en_dusuk  en_yuksek  kapanis\n",
       "KLM   15.75     15.25      16.75    16.50\n",
       "DEF    5.40      5.00       6.00     6.00\n",
       "ABC    3.25      3.15       3.50     3.15"
      ]
     },
     "execution_count": 37,
     "metadata": {},
     "output_type": "execute_result"
    }
   ],
   "source": [
    "# tersten yazdıralım;\n",
    "shares_csv.loc[\"KLM\":\"ABC\":-1]"
   ]
  },
  {
   "cell_type": "code",
   "execution_count": 38,
   "metadata": {},
   "outputs": [
    {
     "name": "stdout",
     "output_type": "stream",
     "text": [
      "acilis\n",
      "en_dusuk\n",
      "en_yuksek\n",
      "kapanis\n"
     ]
    }
   ],
   "source": [
    "# Peki pandas data frame e for döngüsü uygularsam ne olur?\n",
    "for i in shares_csv:\n",
    "    print(i)"
   ]
  },
  {
   "cell_type": "code",
   "execution_count": 39,
   "metadata": {},
   "outputs": [
    {
     "name": "stdout",
     "output_type": "stream",
     "text": [
      "ABC\n",
      "acilis       3.25\n",
      "en_dusuk     3.15\n",
      "en_yuksek    3.50\n",
      "kapanis      3.15\n",
      "Name: ABC, dtype: float64\n",
      "DEF\n",
      "acilis       5.4\n",
      "en_dusuk     5.0\n",
      "en_yuksek    6.0\n",
      "kapanis      6.0\n",
      "Name: DEF, dtype: float64\n",
      "KLM\n",
      "acilis       15.75\n",
      "en_dusuk     15.25\n",
      "en_yuksek    16.75\n",
      "kapanis      16.50\n",
      "Name: KLM, dtype: float64\n",
      "XYZ\n",
      "acilis       80.20\n",
      "en_dusuk     75.00\n",
      "en_yuksek    85.25\n",
      "kapanis      84.30\n",
      "Name: XYZ, dtype: float64\n",
      "IJK\n",
      "acilis       17.5\n",
      "en_dusuk     16.0\n",
      "en_yuksek    19.0\n",
      "kapanis      18.2\n",
      "Name: IJK, dtype: float64\n",
      "VYZ\n",
      "acilis       25.7\n",
      "en_dusuk     24.1\n",
      "en_yuksek    27.5\n",
      "kapanis      26.8\n",
      "Name: VYZ, dtype: float64\n",
      "ERN\n",
      "acilis       95.0\n",
      "en_dusuk     90.2\n",
      "en_yuksek    99.5\n",
      "kapanis      97.5\n",
      "Name: ERN, dtype: float64\n",
      "HEA\n",
      "acilis       55.0\n",
      "en_dusuk     53.0\n",
      "en_yuksek    57.4\n",
      "kapanis      59.3\n",
      "Name: HEA, dtype: float64\n"
     ]
    }
   ],
   "source": [
    "# Bilgilere ulaşabilmek için .iterrows metodu kullanılır.\n",
    "for hisseler, satır in shares_csv.iterrows():\n",
    "    print(hisseler)\n",
    "    print(satır)"
   ]
  },
  {
   "cell_type": "code",
   "execution_count": 40,
   "metadata": {},
   "outputs": [
    {
     "name": "stdout",
     "output_type": "stream",
     "text": [
      "ABC : 3.15\n",
      "DEF : 6.0\n",
      "KLM : 16.5\n",
      "XYZ : 84.3\n",
      "IJK : 18.2\n",
      "VYZ : 26.8\n",
      "ERN : 97.5\n",
      "HEA : 59.3\n"
     ]
    }
   ],
   "source": [
    "for hisse, satır in shares_csv.iterrows():\n",
    "    print(hisse , \":\", satır[\"kapanis\"])\n",
    "    "
   ]
  },
  {
   "cell_type": "code",
   "execution_count": 42,
   "metadata": {},
   "outputs": [
    {
     "name": "stdout",
     "output_type": "stream",
     "text": [
      "     acilis  en_dusuk  en_yuksek  kapanis  gunluk_fark\n",
      "ABC    3.25      3.15       3.50     3.15        -0.10\n",
      "DEF    5.40      5.00       6.00     6.00         0.60\n",
      "KLM   15.75     15.25      16.75    16.50         0.75\n",
      "XYZ   80.20     75.00      85.25    84.30         4.10\n",
      "IJK   17.50     16.00      19.00    18.20         0.70\n",
      "VYZ   25.70     24.10      27.50    26.80         1.10\n",
      "ERN   95.00     90.20      99.50    97.50         2.50\n",
      "HEA   55.00     53.00      57.40    59.30         4.30\n"
     ]
    }
   ],
   "source": [
    "# For döngüsünü kullanarak veri çerçeveme yeni bir sütun ekleyeceğim.\n",
    "for hisse, satır in shares_csv.iterrows():\n",
    "    shares_csv.loc[hisse, \"gunluk_fark\"] = satır[\"kapanis\"] - satır[\"acilis\"]\n",
    "print(shares_csv)\n",
    "# Tabi bunu daha kısa bir şekilde halledebiliriz.\n",
    "# shares_csv[\"gunluk_fark\"] = shares_csv[\"kapanis\"] - shares_csv[\"acilis\"]"
   ]
  },
  {
   "cell_type": "code",
   "execution_count": 44,
   "metadata": {},
   "outputs": [
    {
     "data": {
      "text/html": [
       "<div>\n",
       "<style scoped>\n",
       "    .dataframe tbody tr th:only-of-type {\n",
       "        vertical-align: middle;\n",
       "    }\n",
       "\n",
       "    .dataframe tbody tr th {\n",
       "        vertical-align: top;\n",
       "    }\n",
       "\n",
       "    .dataframe thead th {\n",
       "        text-align: right;\n",
       "    }\n",
       "</style>\n",
       "<table border=\"1\" class=\"dataframe\">\n",
       "  <thead>\n",
       "    <tr style=\"text-align: right;\">\n",
       "      <th></th>\n",
       "      <th>Sepal_Length</th>\n",
       "      <th>Sepal_Width</th>\n",
       "      <th>Petal_Length</th>\n",
       "      <th>Petal_Width</th>\n",
       "    </tr>\n",
       "  </thead>\n",
       "  <tbody>\n",
       "    <tr>\n",
       "      <th>count</th>\n",
       "      <td>10.000000</td>\n",
       "      <td>10.000000</td>\n",
       "      <td>10.000000</td>\n",
       "      <td>10.000000</td>\n",
       "    </tr>\n",
       "    <tr>\n",
       "      <th>mean</th>\n",
       "      <td>5.590000</td>\n",
       "      <td>3.130000</td>\n",
       "      <td>3.290000</td>\n",
       "      <td>1.130000</td>\n",
       "    </tr>\n",
       "    <tr>\n",
       "      <th>std</th>\n",
       "      <td>0.807534</td>\n",
       "      <td>0.316403</td>\n",
       "      <td>1.995244</td>\n",
       "      <td>0.992248</td>\n",
       "    </tr>\n",
       "    <tr>\n",
       "      <th>min</th>\n",
       "      <td>4.600000</td>\n",
       "      <td>2.500000</td>\n",
       "      <td>1.300000</td>\n",
       "      <td>0.200000</td>\n",
       "    </tr>\n",
       "    <tr>\n",
       "      <th>25%</th>\n",
       "      <td>4.925000</td>\n",
       "      <td>3.000000</td>\n",
       "      <td>1.400000</td>\n",
       "      <td>0.200000</td>\n",
       "    </tr>\n",
       "    <tr>\n",
       "      <th>50%</th>\n",
       "      <td>5.500000</td>\n",
       "      <td>3.050000</td>\n",
       "      <td>3.250000</td>\n",
       "      <td>1.000000</td>\n",
       "    </tr>\n",
       "    <tr>\n",
       "      <th>75%</th>\n",
       "      <td>6.275000</td>\n",
       "      <td>3.350000</td>\n",
       "      <td>5.175000</td>\n",
       "      <td>1.975000</td>\n",
       "    </tr>\n",
       "    <tr>\n",
       "      <th>max</th>\n",
       "      <td>6.700000</td>\n",
       "      <td>3.600000</td>\n",
       "      <td>5.400000</td>\n",
       "      <td>2.300000</td>\n",
       "    </tr>\n",
       "  </tbody>\n",
       "</table>\n",
       "</div>"
      ],
      "text/plain": [
       "       Sepal_Length  Sepal_Width  Petal_Length  Petal_Width\n",
       "count     10.000000    10.000000     10.000000    10.000000\n",
       "mean       5.590000     3.130000      3.290000     1.130000\n",
       "std        0.807534     0.316403      1.995244     0.992248\n",
       "min        4.600000     2.500000      1.300000     0.200000\n",
       "25%        4.925000     3.000000      1.400000     0.200000\n",
       "50%        5.500000     3.050000      3.250000     1.000000\n",
       "75%        6.275000     3.350000      5.175000     1.975000\n",
       "max        6.700000     3.600000      5.400000     2.300000"
      ]
     },
     "execution_count": 44,
     "metadata": {},
     "output_type": "execute_result"
    }
   ],
   "source": [
    "# !! Bir veri kümesi ile çalııışmadan önce ilk  olarak verilerin özelliklerine bakılır.\n",
    "import pandas as pd\n",
    "iris.describe()"
   ]
  },
  {
   "cell_type": "code",
   "execution_count": 48,
   "metadata": {},
   "outputs": [
    {
     "data": {
      "text/plain": [
       "count    10.000000\n",
       "mean      5.590000\n",
       "std       0.807534\n",
       "min       4.600000\n",
       "25%       4.925000\n",
       "50%       5.500000\n",
       "75%       6.275000\n",
       "max       6.700000\n",
       "Name: Sepal_Length, dtype: float64"
      ]
     },
     "execution_count": 48,
     "metadata": {},
     "output_type": "execute_result"
    }
   ],
   "source": [
    "iris[\"Sepal_Length\"].describe()"
   ]
  },
  {
   "cell_type": "code",
   "execution_count": 50,
   "metadata": {},
   "outputs": [
    {
     "data": {
      "text/plain": [
       "array(['setosa', 'virginica'], dtype=object)"
      ]
     },
     "execution_count": 50,
     "metadata": {},
     "output_type": "execute_result"
    }
   ],
   "source": [
    "# Bir sütunda hangi kategorik değişkenlerin yer aldını anlamak için .unique()\n",
    "iris[\"Species\"].unique()"
   ]
  },
  {
   "cell_type": "code",
   "execution_count": 52,
   "metadata": {},
   "outputs": [
    {
     "data": {
      "text/plain": [
       "6.7"
      ]
     },
     "execution_count": 52,
     "metadata": {},
     "output_type": "execute_result"
    }
   ],
   "source": [
    "# İstersen ayrı ayrıda bakabilirsin;\n",
    "# Ortalama --> .mean()  Standart Sapma --> .std()\n",
    "# Medyan --> .median()   Yüzdelik Dilim --> .quantile()\n",
    "iris[\"Sepal_Length\"].max()"
   ]
  },
  {
   "cell_type": "code",
   "execution_count": 53,
   "metadata": {},
   "outputs": [
    {
     "data": {
      "text/plain": [
       "0    2.550\n",
       "1    2.375\n",
       "2    2.350\n",
       "3    2.350\n",
       "4    2.550\n",
       "5    4.300\n",
       "6    3.925\n",
       "7    4.175\n",
       "8    4.325\n",
       "9    3.950\n",
       "dtype: float64"
      ]
     },
     "execution_count": 53,
     "metadata": {},
     "output_type": "execute_result"
    }
   ],
   "source": [
    "# Bu metodları satırlarada uygulayabilirsin!\n",
    "iris.mean(axis=\"columns\")"
   ]
  },
  {
   "cell_type": "code",
   "execution_count": 54,
   "metadata": {},
   "outputs": [
    {
     "data": {
      "text/html": [
       "<div>\n",
       "<style scoped>\n",
       "    .dataframe tbody tr th:only-of-type {\n",
       "        vertical-align: middle;\n",
       "    }\n",
       "\n",
       "    .dataframe tbody tr th {\n",
       "        vertical-align: top;\n",
       "    }\n",
       "\n",
       "    .dataframe thead th {\n",
       "        text-align: right;\n",
       "    }\n",
       "</style>\n",
       "<table border=\"1\" class=\"dataframe\">\n",
       "  <thead>\n",
       "    <tr style=\"text-align: right;\">\n",
       "      <th></th>\n",
       "      <th>Sepal_Length</th>\n",
       "      <th>Sepal_Width</th>\n",
       "      <th>Petal_Length</th>\n",
       "      <th>Petal_Width</th>\n",
       "    </tr>\n",
       "  </thead>\n",
       "  <tbody>\n",
       "    <tr>\n",
       "      <th>count</th>\n",
       "      <td>5.000000</td>\n",
       "      <td>5.000000</td>\n",
       "      <td>5.000000</td>\n",
       "      <td>5.000000</td>\n",
       "    </tr>\n",
       "    <tr>\n",
       "      <th>mean</th>\n",
       "      <td>6.320000</td>\n",
       "      <td>2.980000</td>\n",
       "      <td>5.180000</td>\n",
       "      <td>2.060000</td>\n",
       "    </tr>\n",
       "    <tr>\n",
       "      <th>std</th>\n",
       "      <td>0.303315</td>\n",
       "      <td>0.319374</td>\n",
       "      <td>0.148324</td>\n",
       "      <td>0.230217</td>\n",
       "    </tr>\n",
       "    <tr>\n",
       "      <th>min</th>\n",
       "      <td>5.900000</td>\n",
       "      <td>2.500000</td>\n",
       "      <td>5.000000</td>\n",
       "      <td>1.800000</td>\n",
       "    </tr>\n",
       "    <tr>\n",
       "      <th>25%</th>\n",
       "      <td>6.200000</td>\n",
       "      <td>3.000000</td>\n",
       "      <td>5.100000</td>\n",
       "      <td>1.900000</td>\n",
       "    </tr>\n",
       "    <tr>\n",
       "      <th>50%</th>\n",
       "      <td>6.300000</td>\n",
       "      <td>3.000000</td>\n",
       "      <td>5.200000</td>\n",
       "      <td>2.000000</td>\n",
       "    </tr>\n",
       "    <tr>\n",
       "      <th>75%</th>\n",
       "      <td>6.500000</td>\n",
       "      <td>3.000000</td>\n",
       "      <td>5.200000</td>\n",
       "      <td>2.300000</td>\n",
       "    </tr>\n",
       "    <tr>\n",
       "      <th>max</th>\n",
       "      <td>6.700000</td>\n",
       "      <td>3.400000</td>\n",
       "      <td>5.400000</td>\n",
       "      <td>2.300000</td>\n",
       "    </tr>\n",
       "  </tbody>\n",
       "</table>\n",
       "</div>"
      ],
      "text/plain": [
       "       Sepal_Length  Sepal_Width  Petal_Length  Petal_Width\n",
       "count      5.000000     5.000000      5.000000     5.000000\n",
       "mean       6.320000     2.980000      5.180000     2.060000\n",
       "std        0.303315     0.319374      0.148324     0.230217\n",
       "min        5.900000     2.500000      5.000000     1.800000\n",
       "25%        6.200000     3.000000      5.100000     1.900000\n",
       "50%        6.300000     3.000000      5.200000     2.000000\n",
       "75%        6.500000     3.000000      5.200000     2.300000\n",
       "max        6.700000     3.400000      5.400000     2.300000"
      ]
     },
     "execution_count": 54,
     "metadata": {},
     "output_type": "execute_result"
    }
   ],
   "source": [
    "iris[iris[\"Species\"] == \"virginica\"].describe()"
   ]
  },
  {
   "cell_type": "code",
   "execution_count": 56,
   "metadata": {},
   "outputs": [
    {
     "data": {
      "text/html": [
       "<div>\n",
       "<style scoped>\n",
       "    .dataframe tbody tr th:only-of-type {\n",
       "        vertical-align: middle;\n",
       "    }\n",
       "\n",
       "    .dataframe tbody tr th {\n",
       "        vertical-align: top;\n",
       "    }\n",
       "\n",
       "    .dataframe thead th {\n",
       "        text-align: right;\n",
       "    }\n",
       "</style>\n",
       "<table border=\"1\" class=\"dataframe\">\n",
       "  <thead>\n",
       "    <tr style=\"text-align: right;\">\n",
       "      <th></th>\n",
       "      <th>Sepal_Length</th>\n",
       "      <th>Sepal_Width</th>\n",
       "      <th>Petal_Length</th>\n",
       "      <th>Petal_Width</th>\n",
       "      <th>Species</th>\n",
       "    </tr>\n",
       "  </thead>\n",
       "  <tbody>\n",
       "    <tr>\n",
       "      <th>5</th>\n",
       "      <td>6.7</td>\n",
       "      <td>3.0</td>\n",
       "      <td>5.2</td>\n",
       "      <td>2.3</td>\n",
       "      <td>virginica</td>\n",
       "    </tr>\n",
       "    <tr>\n",
       "      <th>6</th>\n",
       "      <td>6.3</td>\n",
       "      <td>2.5</td>\n",
       "      <td>5.0</td>\n",
       "      <td>1.9</td>\n",
       "      <td>virginica</td>\n",
       "    </tr>\n",
       "    <tr>\n",
       "      <th>7</th>\n",
       "      <td>6.5</td>\n",
       "      <td>3.0</td>\n",
       "      <td>5.2</td>\n",
       "      <td>2.0</td>\n",
       "      <td>virginica</td>\n",
       "    </tr>\n",
       "    <tr>\n",
       "      <th>8</th>\n",
       "      <td>6.2</td>\n",
       "      <td>3.4</td>\n",
       "      <td>5.4</td>\n",
       "      <td>2.3</td>\n",
       "      <td>virginica</td>\n",
       "    </tr>\n",
       "  </tbody>\n",
       "</table>\n",
       "</div>"
      ],
      "text/plain": [
       "   Sepal_Length  Sepal_Width  Petal_Length  Petal_Width    Species\n",
       "5           6.7          3.0           5.2          2.3  virginica\n",
       "6           6.3          2.5           5.0          1.9  virginica\n",
       "7           6.5          3.0           5.2          2.0  virginica\n",
       "8           6.2          3.4           5.4          2.3  virginica"
      ]
     },
     "execution_count": 56,
     "metadata": {},
     "output_type": "execute_result"
    }
   ],
   "source": [
    "iris[iris[\"Sepal_Length\"] > 6]"
   ]
  },
  {
   "cell_type": "code",
   "execution_count": 61,
   "metadata": {},
   "outputs": [
    {
     "data": {
      "text/html": [
       "<div>\n",
       "<style scoped>\n",
       "    .dataframe tbody tr th:only-of-type {\n",
       "        vertical-align: middle;\n",
       "    }\n",
       "\n",
       "    .dataframe tbody tr th {\n",
       "        vertical-align: top;\n",
       "    }\n",
       "\n",
       "    .dataframe thead th {\n",
       "        text-align: right;\n",
       "    }\n",
       "</style>\n",
       "<table border=\"1\" class=\"dataframe\">\n",
       "  <thead>\n",
       "    <tr style=\"text-align: right;\">\n",
       "      <th></th>\n",
       "      <th>Sepal_Length</th>\n",
       "      <th>Sepal_Width</th>\n",
       "      <th>Petal_Length</th>\n",
       "      <th>Petal_Width</th>\n",
       "      <th>Species</th>\n",
       "    </tr>\n",
       "  </thead>\n",
       "  <tbody>\n",
       "    <tr>\n",
       "      <th>0</th>\n",
       "      <td>5.1</td>\n",
       "      <td>3.5</td>\n",
       "      <td>1.4</td>\n",
       "      <td>0.2</td>\n",
       "      <td>setosa</td>\n",
       "    </tr>\n",
       "    <tr>\n",
       "      <th>8</th>\n",
       "      <td>6.2</td>\n",
       "      <td>3.4</td>\n",
       "      <td>5.4</td>\n",
       "      <td>2.3</td>\n",
       "      <td>virginica</td>\n",
       "    </tr>\n",
       "  </tbody>\n",
       "</table>\n",
       "</div>"
      ],
      "text/plain": [
       "   Sepal_Length  Sepal_Width  Petal_Length  Petal_Width    Species\n",
       "0           5.1          3.5           1.4          0.2     setosa\n",
       "8           6.2          3.4           5.4          2.3  virginica"
      ]
     },
     "execution_count": 61,
     "metadata": {},
     "output_type": "execute_result"
    }
   ],
   "source": [
    "iris[(iris[\"Sepal_Width\"] > 3)&(iris[\"Sepal_Length\"]>5)]"
   ]
  },
  {
   "cell_type": "code",
   "execution_count": 63,
   "metadata": {},
   "outputs": [
    {
     "data": {
      "text/plain": [
       "0    1.4\n",
       "2    1.3\n",
       "3    1.5\n",
       "4    1.4\n",
       "8    5.4\n",
       "Name: Petal_Length, dtype: float64"
      ]
     },
     "execution_count": 63,
     "metadata": {},
     "output_type": "execute_result"
    }
   ],
   "source": [
    "iris[\"Petal_Length\"][iris[\"Sepal_Width\"]>3]"
   ]
  },
  {
   "cell_type": "code",
   "execution_count": null,
   "metadata": {},
   "outputs": [],
   "source": [
    "# Hiç 0 içermeyen sütunları görmek için .all() metodu\n",
    "# Sıfırdan farklı değerler içeren sütunları görmek içn .any()\n",
    "# NaN(Sayı olmama durumu) içeren  sütunları görmek için .isnull() içermeyenleri görmek için .notnull()"
   ]
  },
  {
   "cell_type": "code",
   "execution_count": 1,
   "metadata": {},
   "outputs": [
    {
     "name": "stdout",
     "output_type": "stream",
     "text": [
      "   degisken     deger\n",
      "0         A  0.897291\n",
      "1         A  0.743257\n",
      "2         A  0.953106\n",
      "3         B  0.868834\n",
      "4         B  0.936711\n",
      "5         B  0.454891\n",
      "6         C  0.319591\n",
      "7         C  0.748960\n",
      "8         C  0.986292\n",
      "9         D  0.168456\n",
      "10        D  0.042562\n",
      "11        D  0.852047\n"
     ]
    }
   ],
   "source": [
    "# Yeniden şekillendirme işlemi yapacağız.\n",
    "# Yeni bir dataframe oluşturalım;\n",
    "import numpy as np\n",
    "import pandas as pd\n",
    "degisken = np.repeat([\"A\", \"B\", \"C\", \"D\"], [3, 3, 3, 3])\n",
    "deger = np.random.random(12)\n",
    "df_dict = {\"degisken\": degisken, \"deger\": deger}\n",
    "df = pd.DataFrame(df_dict)\n",
    "df = df[[\"degisken\", \"deger\"]]\n",
    "print(df)\n"
   ]
  },
  {
   "cell_type": "code",
   "execution_count": 4,
   "metadata": {},
   "outputs": [
    {
     "name": "stdout",
     "output_type": "stream",
     "text": [
      "degisken         A         B         C         D\n",
      "0         0.897291       NaN       NaN       NaN\n",
      "1         0.743257       NaN       NaN       NaN\n",
      "2         0.953106       NaN       NaN       NaN\n",
      "3              NaN  0.868834       NaN       NaN\n",
      "4              NaN  0.936711       NaN       NaN\n",
      "5              NaN  0.454891       NaN       NaN\n",
      "6              NaN       NaN  0.319591       NaN\n",
      "7              NaN       NaN  0.748960       NaN\n",
      "8              NaN       NaN  0.986292       NaN\n",
      "9              NaN       NaN       NaN  0.168456\n",
      "10             NaN       NaN       NaN  0.042562\n",
      "11             NaN       NaN       NaN  0.852047\n"
     ]
    }
   ],
   "source": [
    "# Data Frame in yapısını .pivot() metodu ile değiştirelim;\n",
    "df2 = df.pivot(columns=\"degisken\", values=\"deger\")\n",
    "print(df2)"
   ]
  },
  {
   "cell_type": "code",
   "execution_count": 7,
   "metadata": {},
   "outputs": [
    {
     "name": "stdout",
     "output_type": "stream",
     "text": [
      "   degisken     deger\n",
      "0         A  0.897291\n",
      "1         A  0.743257\n",
      "2         A  0.953106\n",
      "15        B  0.868834\n",
      "16        B  0.936711\n",
      "17        B  0.454891\n",
      "30        C  0.319591\n",
      "31        C  0.748960\n",
      "32        C  0.986292\n",
      "45        D  0.168456\n",
      "46        D  0.042562\n",
      "47        D  0.852047\n"
     ]
    }
   ],
   "source": [
    "# Tekrar eski haline çevirelim;\n",
    "df3 = df2.melt(value_vars=[\"A\", \"B\", \"C\", \"D\"], value_name=\"deger\").dropna()  # Null yani Nan değerlere sahip satırları kaldırmak için kullanılır. Bu işlem yeni bir Dataframe döndürür.\n",
    "# ve kaynak DataFrame değişmez.\n",
    "print(df3)"
   ]
  },
  {
   "cell_type": "code",
   "execution_count": 16,
   "metadata": {},
   "outputs": [
    {
     "name": "stdout",
     "output_type": "stream",
     "text": [
      "       X  Y1\n",
      "0  Hasan  97\n",
      "1   Erol  85\n",
      "2  Hülya  75\n",
      "        X  Y1\n",
      "0   Hasan  75\n",
      "1    Erol  94\n",
      "2  Egemen  96\n"
     ]
    }
   ],
   "source": [
    "# 2 tane yeni veri çerçevesi oluşturağım.\n",
    "df1 = pd.read_csv(\"data_frame1.csv\")\n",
    "df2 = pd.read_csv(\"data_frame2.csv\")\n",
    "print(df1)\n",
    "print(df2)"
   ]
  },
  {
   "cell_type": "code",
   "execution_count": 17,
   "metadata": {},
   "outputs": [
    {
     "name": "stdout",
     "output_type": "stream",
     "text": [
      "       X  Y1_x  Y1_y\n",
      "0  Hasan    97  75.0\n",
      "1   Erol    85  94.0\n",
      "2  Hülya    75   NaN\n"
     ]
    }
   ],
   "source": [
    "# 2 Data Frame i birleştirirken kullanabileceğimz yöntemler left, right, inner ve outer yöntemleridir.\n",
    "# Anahtar bir sütun kullanarak birleştirmek için .merge() metodu kullanılır.\n",
    "df_left = pd.merge(df1, df2, how=\"left\", on= \"X\")\n",
    "print(df_left)"
   ]
  },
  {
   "cell_type": "code",
   "execution_count": 18,
   "metadata": {},
   "outputs": [
    {
     "name": "stdout",
     "output_type": "stream",
     "text": [
      "        X  Y1_x  Y1_y\n",
      "0   Hasan  97.0    75\n",
      "1    Erol  85.0    94\n",
      "2  Egemen   NaN    96\n"
     ]
    }
   ],
   "source": [
    "df_right = pd.merge(df1, df2, how=\"right\", on=\"X\")\n",
    "print(df_right)"
   ]
  },
  {
   "cell_type": "code",
   "execution_count": 20,
   "metadata": {},
   "outputs": [
    {
     "name": "stdout",
     "output_type": "stream",
     "text": [
      "       X  Y1_x  Y1_y\n",
      "0  Hasan    97    75\n",
      "1   Erol    85    94\n"
     ]
    }
   ],
   "source": [
    "# inner de ortaklar baz alınarak birleştirme yapılır.\n",
    "df_inner = pd.merge(df1, df2, how=\"inner\", on=\"X\")\n",
    "print(df_inner)"
   ]
  },
  {
   "cell_type": "code",
   "execution_count": 21,
   "metadata": {},
   "outputs": [
    {
     "name": "stdout",
     "output_type": "stream",
     "text": [
      "        X  Y1_x  Y1_y\n",
      "0   Hasan  97.0  75.0\n",
      "1    Erol  85.0  94.0\n",
      "2   Hülya  75.0   NaN\n",
      "3  Egemen   NaN  96.0\n"
     ]
    }
   ],
   "source": [
    "df_outer = pd.merge(df1, df2, how=\"outer\", on=\"X\")\n",
    "print(df_outer)\n",
    "# Tüm satırlar birleştirilir."
   ]
  },
  {
   "cell_type": "code",
   "execution_count": null,
   "metadata": {},
   "outputs": [],
   "source": []
  }
 ],
 "metadata": {
  "kernelspec": {
   "display_name": "Python 3",
   "language": "python",
   "name": "python3"
  },
  "language_info": {
   "codemirror_mode": {
    "name": "ipython",
    "version": 3
   },
   "file_extension": ".py",
   "mimetype": "text/x-python",
   "name": "python",
   "nbconvert_exporter": "python",
   "pygments_lexer": "ipython3",
   "version": "3.8.5"
  }
 },
 "nbformat": 4,
 "nbformat_minor": 4
}
