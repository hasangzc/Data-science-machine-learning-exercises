{
 "cells": [
  {
   "cell_type": "code",
   "execution_count": null,
   "metadata": {},
   "outputs": [],
   "source": [
    "#                                       İSTATİKSEL ANALİZ"
   ]
  },
  {
   "cell_type": "code",
   "execution_count": null,
   "metadata": {},
   "outputs": [],
   "source": [
    "#   1) Betimsel Analiz"
   ]
  },
  {
   "cell_type": "code",
   "execution_count": null,
   "metadata": {},
   "outputs": [],
   "source": [
    "# Verimizi grafiksel olarak analiz ettikten sonra verimizin özelliklerini bulmalıyız.\n",
    "# Bu özelliklerden birincisi; Merkezlik Ölçüsü\n",
    "# Elimizdeki veri kümesini tek bir sayı ile temsil edecek olsak bu sayı ne olurdu?\n",
    "# Aklımıza ilk gelen değer: Ortalama   "
   ]
  },
  {
   "cell_type": "code",
   "execution_count": 1,
   "metadata": {},
   "outputs": [
    {
     "name": "stdout",
     "output_type": "stream",
     "text": [
      "Collecting seaborn\n",
      "  Downloading seaborn-0.11.0-py3-none-any.whl (283 kB)\n",
      "\u001b[K     |████████████████████████████████| 283 kB 824 kB/s eta 0:00:01     |█████████████████████████████   | 256 kB 824 kB/s eta 0:00:01\n",
      "\u001b[?25hRequirement already satisfied: numpy>=1.15 in /home/hasan/code/jupyterenvironment/lib/python3.8/site-packages (from seaborn) (1.19.4)\n",
      "Requirement already satisfied: scipy>=1.0 in /home/hasan/code/jupyterenvironment/lib/python3.8/site-packages (from seaborn) (1.5.4)\n",
      "Requirement already satisfied: pandas>=0.23 in /home/hasan/code/jupyterenvironment/lib/python3.8/site-packages (from seaborn) (1.1.4)\n",
      "Requirement already satisfied: matplotlib>=2.2 in /home/hasan/code/jupyterenvironment/lib/python3.8/site-packages (from seaborn) (3.3.3)\n",
      "Requirement already satisfied: python-dateutil>=2.7.3 in /home/hasan/code/jupyterenvironment/lib/python3.8/site-packages (from pandas>=0.23->seaborn) (2.8.1)\n",
      "Requirement already satisfied: pytz>=2017.2 in /home/hasan/code/jupyterenvironment/lib/python3.8/site-packages (from pandas>=0.23->seaborn) (2020.4)\n",
      "Requirement already satisfied: kiwisolver>=1.0.1 in /home/hasan/code/jupyterenvironment/lib/python3.8/site-packages (from matplotlib>=2.2->seaborn) (1.3.1)\n",
      "Requirement already satisfied: pillow>=6.2.0 in /home/hasan/code/jupyterenvironment/lib/python3.8/site-packages (from matplotlib>=2.2->seaborn) (8.0.1)\n",
      "Requirement already satisfied: cycler>=0.10 in /home/hasan/code/jupyterenvironment/lib/python3.8/site-packages (from matplotlib>=2.2->seaborn) (0.10.0)\n",
      "Requirement already satisfied: pyparsing!=2.0.4,!=2.1.2,!=2.1.6,>=2.0.3 in /home/hasan/code/jupyterenvironment/lib/python3.8/site-packages (from matplotlib>=2.2->seaborn) (2.4.7)\n",
      "Requirement already satisfied: six>=1.5 in /home/hasan/code/jupyterenvironment/lib/python3.8/site-packages (from python-dateutil>=2.7.3->pandas>=0.23->seaborn) (1.15.0)\n",
      "Installing collected packages: seaborn\n",
      "Successfully installed seaborn-0.11.0\n",
      "\u001b[33mWARNING: You are using pip version 20.2.4; however, version 20.3.3 is available.\n",
      "You should consider upgrading via the '/home/hasan/code/jupyterenvironment/bin/python -m pip install --upgrade pip' command.\u001b[0m\n"
     ]
    }
   ],
   "source": [
    "!pip install seaborn"
   ]
  },
  {
   "cell_type": "code",
   "execution_count": 13,
   "metadata": {},
   "outputs": [
    {
     "data": {
      "text/plain": [
       "3.7580000000000005"
      ]
     },
     "execution_count": 13,
     "metadata": {},
     "output_type": "execute_result"
    }
   ],
   "source": [
    "# Python' da ortalama hesaplamak için Numpy Modülünde yer alan .mean() metodunu kullanabiliriz.\n",
    "import numpy as np\n",
    "import seaborn as sns  # Seaborn, Matplotlib kütüphanesine yüksek seviye arayüz sağlayan bir kütüphanedir\n",
    "\n",
    "iris = sns.load_dataset(\"iris\") # Kayıtlı\n",
    "np.mean(iris.petal_length)\n"
   ]
  },
  {
   "cell_type": "code",
   "execution_count": 9,
   "metadata": {},
   "outputs": [
    {
     "data": {
      "text/plain": [
       "sepal_length    5.843333\n",
       "sepal_width     3.057333\n",
       "petal_length    3.758000\n",
       "petal_width     1.199333\n",
       "dtype: float64"
      ]
     },
     "execution_count": 9,
     "metadata": {},
     "output_type": "execute_result"
    }
   ],
   "source": [
    "np.mean(iris.iloc[:, 0:4]) "
   ]
  },
  {
   "cell_type": "code",
   "execution_count": 11,
   "metadata": {},
   "outputs": [
    {
     "data": {
      "text/plain": [
       "7.0"
      ]
     },
     "execution_count": 11,
     "metadata": {},
     "output_type": "execute_result"
    }
   ],
   "source": [
    "# Aritmatik ortalama en çok kullanılan merkezlik ölçüsü fakat aşırı uc değerlere duyarlı bir ölçüm.\n",
    "# Medyan değeri ise aşırı uca karşı hassas değil. \n",
    "# Medyan değeri: Bütün veriler küçükten büyüğe sıralınır ve en ortadaki değer medyandır.\n",
    "# Veri kümesinde çift sayıda veri varsa medyan ortadaki 2 değerin ortalamasıdır.\n",
    "set1 = [3, 4, 5, 6, 7, 8, 9, 10, 12, 85]\n",
    "set2 = [3, 4, 5, 6, 7, 8, 9, 10, 12]\n",
    "np.median(set1) # 7.5\n",
    "np.median(set2) # 7.0"
   ]
  },
  {
   "cell_type": "code",
   "execution_count": 14,
   "metadata": {},
   "outputs": [
    {
     "data": {
      "text/plain": [
       "4.35"
      ]
     },
     "execution_count": 14,
     "metadata": {},
     "output_type": "execute_result"
    }
   ],
   "source": [
    "np.median(iris.petal_length)"
   ]
  },
  {
   "cell_type": "code",
   "execution_count": null,
   "metadata": {},
   "outputs": [],
   "source": [
    "# Medyana tüm sayılar küçükten büyüğe dizildiğinde %50 lik de diyebiliriz.\n",
    "# İstersek başka yüzdelikteki değerleride hesaplayabiliriz."
   ]
  },
  {
   "cell_type": "code",
   "execution_count": 16,
   "metadata": {},
   "outputs": [
    {
     "data": {
      "text/plain": [
       "5.8"
      ]
     },
     "execution_count": 16,
     "metadata": {},
     "output_type": "execute_result"
    }
   ],
   "source": [
    "# yüzdelik: percentile\n",
    "# .percentile(veri dizisi, hesaplanmak istenen yüzdelik)\n",
    "np.percentile(iris[\"sepal_length\"], 50) # np.percentile(iris.sepal_length, 50)\n",
    "np.median(iris.sepal_length) "
   ]
  },
  {
   "cell_type": "code",
   "execution_count": 17,
   "metadata": {},
   "outputs": [
    {
     "data": {
      "text/plain": [
       "array([5.27, 6.1 , 6.9 ])"
      ]
     },
     "execution_count": 17,
     "metadata": {},
     "output_type": "execute_result"
    }
   ],
   "source": [
    "np.percentile(iris.sepal_length, [30, 60, 90])"
   ]
  },
  {
   "cell_type": "code",
   "execution_count": 20,
   "metadata": {},
   "outputs": [
    {
     "data": {
      "text/plain": [
       "array([1., 1., 2., 2., 1., 1., 2., 2., 1., 1.])"
      ]
     },
     "execution_count": 20,
     "metadata": {},
     "output_type": "execute_result"
    }
   ],
   "source": [
    "# Verilerin ortalama etrafında nasıl dağıldığını ölçmek için bir hesaplama yöntemi geliştirmeliyiz.\n",
    "A = [21, 19, 22, 18, 21, 19, 22, 18, 21, 19]\n",
    "# Mutlak değer(A- mean(A))\n",
    "A_mutlak_sapma = np.absolute(A - np.mean(A))\n",
    "# np.mean(A) = 20 \n",
    "A_mutlak_sapma"
   ]
  },
  {
   "cell_type": "code",
   "execution_count": 26,
   "metadata": {},
   "outputs": [
    {
     "data": {
      "text/plain": [
       "array([ 5.,  5.,  9.,  9., 10., 10.,  6.,  6.,  7.,  7.])"
      ]
     },
     "execution_count": 26,
     "metadata": {},
     "output_type": "execute_result"
    }
   ],
   "source": [
    "B  = [25, 15, 29, 11, 30, 10, 26, 14, 27, 13]\n",
    "B_mutlak_sapma = np.absolute(B - np.mean(B))\n",
    "# np.mean(B) = 20\n",
    "B_mutlak_sapma"
   ]
  },
  {
   "cell_type": "code",
   "execution_count": 27,
   "metadata": {},
   "outputs": [
    {
     "data": {
      "text/plain": [
       "1.4"
      ]
     },
     "execution_count": 27,
     "metadata": {},
     "output_type": "execute_result"
    }
   ],
   "source": [
    "# Gördüğümüz gibi B dekiler ortalamadan epey bir uzaklaşmış. \n",
    "# Her verinin ortalamadan uzaklığını bulduk.\n",
    "# Betimsel analizde genellikle incelediğimiz özelliği bir sayı ile ifade etmeye çalışırız.\n",
    "# Merkezi değeri bulurken ortalama ve medyan kullanmamız gibi yayılıma bakarkende tek bir ifade arıyoruz.\n",
    "# Şimdide bunların ortalamasını alıp özet bilgiye ulaşalım.\n",
    "np.mean(A_mutlak_sapma)"
   ]
  },
  {
   "cell_type": "code",
   "execution_count": 28,
   "metadata": {},
   "outputs": [
    {
     "data": {
      "text/plain": [
       "7.4"
      ]
     },
     "execution_count": 28,
     "metadata": {},
     "output_type": "execute_result"
    }
   ],
   "source": [
    "np.mean(B_mutlak_sapma)"
   ]
  },
  {
   "cell_type": "code",
   "execution_count": null,
   "metadata": {},
   "outputs": [],
   "source": [
    "# Yukarıda hesapladığımız değer Ortalama Mutlak Değer (Mean Absolute Deviation)"
   ]
  },
  {
   "cell_type": "code",
   "execution_count": 29,
   "metadata": {},
   "outputs": [
    {
     "data": {
      "text/plain": [
       "2.2"
      ]
     },
     "execution_count": 29,
     "metadata": {},
     "output_type": "execute_result"
    }
   ],
   "source": [
    "# Yayılım ölçümünde daha çok kullanılan bir diğer değer varyanstır.\n",
    "# Varyansı hesaplarken ortalama sapmaların kareleri dikkate alınır.\n",
    "#                          varyans = ortalama(TOPLAM((A - np.mean(A))^2)\n",
    "\n",
    "np.var(A)"
   ]
  },
  {
   "cell_type": "code",
   "execution_count": 30,
   "metadata": {},
   "outputs": [
    {
     "data": {
      "text/plain": [
       "58.2"
      ]
     },
     "execution_count": 30,
     "metadata": {},
     "output_type": "execute_result"
    }
   ],
   "source": [
    "np.var(B)\n",
    "# A ve B sayı dizilerinin ortalamasının aynı olmasına rağmen dağılımlarının ne kadar\n",
    "# farklı olduğunu bir kez daha görmüş olduk."
   ]
  },
  {
   "cell_type": "code",
   "execution_count": 31,
   "metadata": {},
   "outputs": [
    {
     "data": {
      "text/plain": [
       "1.4832396974191326"
      ]
     },
     "execution_count": 31,
     "metadata": {},
     "output_type": "execute_result"
    }
   ],
   "source": [
    "# !! Varyans kareler toplamı olduğu içn ölçü birimi kullandığımız verilerin biriminden farklıdır.\n",
    "# Karekökünü  alarak veri kümesi ile aynı ölçüm biriminde bir değer elde ederiz.\n",
    "# Varyansın kökünü aldığımız bu değere Standart Sapma denir!\n",
    "np.sqrt(np.var(A))"
   ]
  },
  {
   "cell_type": "code",
   "execution_count": 32,
   "metadata": {},
   "outputs": [
    {
     "data": {
      "text/plain": [
       "1.4832396974191326"
      ]
     },
     "execution_count": 32,
     "metadata": {},
     "output_type": "execute_result"
    }
   ],
   "source": [
    "np.std(A)"
   ]
  },
  {
   "cell_type": "code",
   "execution_count": 33,
   "metadata": {},
   "outputs": [
    {
     "data": {
      "text/plain": [
       "7.628892449104261"
      ]
     },
     "execution_count": 33,
     "metadata": {},
     "output_type": "execute_result"
    }
   ],
   "source": [
    "np.std(B)"
   ]
  },
  {
   "cell_type": "code",
   "execution_count": 38,
   "metadata": {},
   "outputs": [
    {
     "data": {
      "image/png": "[encoded data removed]",
      "text/plain": [
       "<Figure size 432x288 with 1 Axes>"
      ]
     },
     "metadata": {
      "needs_background": "light"
     },
     "output_type": "display_data"
    }
   ],
   "source": [
    "import matplotlib.pyplot as plt\n",
    "charts = plt.imread(\"charts.png\")\n",
    "plt.imshow(charts)\n",
    "plt.axis(\"off\")\n",
    "plt.show()"
   ]
  },
  {
   "cell_type": "code",
   "execution_count": null,
   "metadata": {},
   "outputs": [],
   "source": [
    "# Yukardaki grafikleri incelersek; ilk grafikte değişkenler arasında doğru orantı\n",
    "# İkinci grafikte değişkenler arası ters orantı\n",
    "# Üçüncü grafikte ise değişkenler arasında bir ilişki göze çarpmıyor."
   ]
  },
  {
   "cell_type": "code",
   "execution_count": 37,
   "metadata": {},
   "outputs": [
    {
     "data": {
      "image/png": "[encoded data removed]",
      "text/plain": [
       "<Figure size 432x288 with 1 Axes>"
      ]
     },
     "metadata": {
      "needs_background": "light"
     },
     "output_type": "display_data"
    }
   ],
   "source": [
    "# Peki 2 değişken arasındaki ilişkinin derecesini nasıl sayısallaştırabiliriz ??\n",
    "kov = plt.imread(\"koveryans.png\")\n",
    "plt.imshow(kov)\n",
    "plt.axis(\"off\")\n",
    "plt.show()"
   ]
  },
  {
   "cell_type": "code",
   "execution_count": 2,
   "metadata": {},
   "outputs": [
    {
     "data": {
      "text/plain": [
       "array([[3.11627785, 1.2956094 ],\n",
       "       [1.2956094 , 0.58100626]])"
      ]
     },
     "execution_count": 2,
     "metadata": {},
     "output_type": "execute_result"
    }
   ],
   "source": [
    "# Koveryans = ortalama(TOPLAM(x- ort(x))*(y - ort(y)))\n",
    "# Böylece 2 farklı değişkenin birlikte değişmesinin bir ölçümünü yapmış oluruz.\n",
    "# Python' da koveryans np.cov() ile bulunur.\n",
    "import numpy as np\n",
    "import pandas as pd\n",
    "import seaborn as sns  # Seaborn, Matplotlib kütüphanesine yüksek seviye arayüz sağlayan bir kütüphanedir\n",
    "\n",
    "iris = sns.load_dataset(\"iris\") # Kayıtlı\n",
    "np.cov(iris.petal_length, iris.petal_width)\n",
    "# kendi aralırında ve kendi içerisinde koveryans değerleri;"
   ]
  },
  {
   "cell_type": "code",
   "execution_count": 3,
   "metadata": {},
   "outputs": [
    {
     "data": {
      "text/plain": [
       "array([[1.        , 0.96286543],\n",
       "       [0.96286543, 1.        ]])"
      ]
     },
     "execution_count": 3,
     "metadata": {},
     "output_type": "execute_result"
    }
   ],
   "source": [
    "# NOT! \n",
    "# Koveryans ölçümünün dezavantajı belirli bir birimin olmamasıdır.\n",
    "# X ve Y ile X ve Z arasındaki koveryans Y ve Z farklı birimlerde ise karşılaştırmak saçma olur!\n",
    "# Bu durumu ortadan kaldırmak için standart bir ölçüme ihtiyacımız var.\n",
    "# Korelasyon katsayısı = (Koveryans)/(std(x) * std(y))\n",
    "# -1 ile +1 arası değer alır. Değer 0' a yaklaşırsa değişkenler arası ilişki azalır.\n",
    "# Değer +1 e yaklaştıkça iki veri güçlü derecede pozitif ilişkiye sahiptir.\n",
    "# Değer -1 e yaklaştıkça iki veri güçlü derecede negatif ilişkiye sahiptir.\n",
    "np.corrcoef(iris.petal_length, iris.petal_width)\n",
    "# Kendi içerisindeki ilişki = 1, birbirleri arasında = 0.96"
   ]
  },
  {
   "cell_type": "code",
   "execution_count": null,
   "metadata": {},
   "outputs": [],
   "source": []
  }
 ],
 "metadata": {
  "kernelspec": {
   "display_name": "Python 3",
   "language": "python",
   "name": "python3"
  },
  "language_info": {
   "codemirror_mode": {
    "name": "ipython",
    "version": 3
   },
   "file_extension": ".py",
   "mimetype": "text/x-python",
   "name": "python",
   "nbconvert_exporter": "python",
   "pygments_lexer": "ipython3",
   "version": "3.8.5"
  }
 },
 "nbformat": 4,
 "nbformat_minor": 4
}
